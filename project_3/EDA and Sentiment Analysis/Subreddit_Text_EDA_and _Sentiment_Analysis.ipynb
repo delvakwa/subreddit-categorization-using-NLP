{
 "cells": [
  {
   "cell_type": "code",
   "execution_count": 1,
   "metadata": {},
   "outputs": [],
   "source": [
    "import os\n",
    "import pandas as pd\n",
    "from sklearn.feature_extraction import stop_words\n",
    "from sklearn.feature_extraction.text import CountVectorizer, TfidfVectorizer\n",
    "import matplotlib.pyplot as plt\n",
    "import pandas as pd\n",
    "import seaborn as sns\n",
    "from nltk.sentiment.vader import SentimentIntensityAnalyzer"
   ]
  },
  {
   "cell_type": "code",
   "execution_count": 2,
   "metadata": {
    "scrolled": true
   },
   "outputs": [
    {
     "name": "stdout",
     "output_type": "stream",
     "text": [
      "Lets try and pull data from the files in this folder\n",
      "Huzzah! Mission Complete\n"
     ]
    },
    {
     "name": "stderr",
     "output_type": "stream",
     "text": [
      "C:\\Users\\kwama\\Anaconda3\\lib\\site-packages\\ipykernel_launcher.py:15: FutureWarning: Sorting because non-concatenation axis is not aligned. A future version\n",
      "of pandas will change to not sort by default.\n",
      "\n",
      "To accept the future behavior, pass 'sort=False'.\n",
      "\n",
      "To retain the current behavior and silence the warning, pass 'sort=True'.\n",
      "\n",
      "  from ipykernel import kernelapp as app\n"
     ]
    },
    {
     "data": {
      "text/plain": [
       "(2119, 104)"
      ]
     },
     "execution_count": 2,
     "metadata": {},
     "output_type": "execute_result"
    }
   ],
   "source": [
    "# easier to see full text with a bigger maxwidth:\n",
    "pd.options.display.max_colwidth = 200\n",
    "\n",
    "list_of_dfs = []\n",
    "\n",
    "try: \n",
    "    print('Lets try and pull data from the files in this folder')\n",
    "    for file in os.listdir('../data')[1:]:\n",
    "        d = pd.read_csv('../data/' + file)\n",
    "        list_of_dfs.append(d)\n",
    "    print('Huzzah! Mission Complete')\n",
    "except:\n",
    "    print(\"Welp, that didn't work\")\n",
    "\n",
    "df = pd.concat(list_of_dfs, ignore_index=True).g6y\n",
    "df.shape"
   ]
  },
  {
   "cell_type": "code",
   "execution_count": 3,
   "metadata": {},
   "outputs": [
    {
     "data": {
      "text/plain": [
       "Index(['all_awardings', 'allow_live_comments', 'approved_at_utc',\n",
       "       'approved_by', 'archived', 'author', 'author_cakeday',\n",
       "       'author_flair_background_color', 'author_flair_css_class',\n",
       "       'author_flair_richtext',\n",
       "       ...\n",
       "       'thumbnail_width', 'title', 'total_awards_received', 'ups', 'url',\n",
       "       'user_reports', 'view_count', 'visited', 'whitelist_status', 'wls'],\n",
       "      dtype='object', length=104)"
      ]
     },
     "execution_count": 3,
     "metadata": {},
     "output_type": "execute_result"
    }
   ],
   "source": [
    "df.columns"
   ]
  },
  {
   "cell_type": "code",
   "execution_count": 4,
   "metadata": {},
   "outputs": [
    {
     "data": {
      "text/html": [
       "<div>\n",
       "<style scoped>\n",
       "    .dataframe tbody tr th:only-of-type {\n",
       "        vertical-align: middle;\n",
       "    }\n",
       "\n",
       "    .dataframe tbody tr th {\n",
       "        vertical-align: top;\n",
       "    }\n",
       "\n",
       "    .dataframe thead th {\n",
       "        text-align: right;\n",
       "    }\n",
       "</style>\n",
       "<table border=\"1\" class=\"dataframe\">\n",
       "  <thead>\n",
       "    <tr style=\"text-align: right;\">\n",
       "      <th></th>\n",
       "      <th>all_awardings</th>\n",
       "      <th>allow_live_comments</th>\n",
       "      <th>approved_at_utc</th>\n",
       "      <th>approved_by</th>\n",
       "      <th>archived</th>\n",
       "      <th>author</th>\n",
       "      <th>author_cakeday</th>\n",
       "      <th>author_flair_background_color</th>\n",
       "      <th>author_flair_css_class</th>\n",
       "      <th>author_flair_richtext</th>\n",
       "      <th>...</th>\n",
       "      <th>thumbnail_width</th>\n",
       "      <th>title</th>\n",
       "      <th>total_awards_received</th>\n",
       "      <th>ups</th>\n",
       "      <th>url</th>\n",
       "      <th>user_reports</th>\n",
       "      <th>view_count</th>\n",
       "      <th>visited</th>\n",
       "      <th>whitelist_status</th>\n",
       "      <th>wls</th>\n",
       "    </tr>\n",
       "  </thead>\n",
       "  <tbody>\n",
       "    <tr>\n",
       "      <th>0</th>\n",
       "      <td>[]</td>\n",
       "      <td>False</td>\n",
       "      <td>NaN</td>\n",
       "      <td>NaN</td>\n",
       "      <td>False</td>\n",
       "      <td>pittman66</td>\n",
       "      <td>NaN</td>\n",
       "      <td>NaN</td>\n",
       "      <td>MAL</td>\n",
       "      <td>[]</td>\n",
       "      <td>...</td>\n",
       "      <td>NaN</td>\n",
       "      <td>Wiki Overhaul Month, Week 2: Watch Order Wiki</td>\n",
       "      <td>0</td>\n",
       "      <td>67</td>\n",
       "      <td>https://www.reddit.com/r/anime/comments/c822ra/wiki_overhaul_month_week_2_watch_order_wiki/</td>\n",
       "      <td>[]</td>\n",
       "      <td>NaN</td>\n",
       "      <td>False</td>\n",
       "      <td>all_ads</td>\n",
       "      <td>6</td>\n",
       "    </tr>\n",
       "    <tr>\n",
       "      <th>1</th>\n",
       "      <td>[]</td>\n",
       "      <td>False</td>\n",
       "      <td>NaN</td>\n",
       "      <td>NaN</td>\n",
       "      <td>False</td>\n",
       "      <td>AnimeMod</td>\n",
       "      <td>NaN</td>\n",
       "      <td>NaN</td>\n",
       "      <td>NaN</td>\n",
       "      <td>[]</td>\n",
       "      <td>...</td>\n",
       "      <td>NaN</td>\n",
       "      <td>Recommendation Tuesdays Megathread - Week of July 02, 2019</td>\n",
       "      <td>0</td>\n",
       "      <td>61</td>\n",
       "      <td>https://www.reddit.com/r/anime/comments/c823rj/recommendation_tuesdays_megathread_week_of_july/</td>\n",
       "      <td>[]</td>\n",
       "      <td>NaN</td>\n",
       "      <td>False</td>\n",
       "      <td>all_ads</td>\n",
       "      <td>6</td>\n",
       "    </tr>\n",
       "    <tr>\n",
       "      <th>2</th>\n",
       "      <td>[]</td>\n",
       "      <td>True</td>\n",
       "      <td>NaN</td>\n",
       "      <td>NaN</td>\n",
       "      <td>False</td>\n",
       "      <td>MinecrafterPH</td>\n",
       "      <td>NaN</td>\n",
       "      <td>#2e51a2</td>\n",
       "      <td>MAL</td>\n",
       "      <td>[]</td>\n",
       "      <td>...</td>\n",
       "      <td>NaN</td>\n",
       "      <td>My Hero Academia Season 4 is reportedly listed for 25 episodes</td>\n",
       "      <td>0</td>\n",
       "      <td>5778</td>\n",
       "      <td>https://www.reddit.com/r/anime/comments/c8o432/my_hero_academia_season_4_is_reportedly_listed/</td>\n",
       "      <td>[]</td>\n",
       "      <td>NaN</td>\n",
       "      <td>False</td>\n",
       "      <td>all_ads</td>\n",
       "      <td>6</td>\n",
       "    </tr>\n",
       "    <tr>\n",
       "      <th>3</th>\n",
       "      <td>[]</td>\n",
       "      <td>True</td>\n",
       "      <td>NaN</td>\n",
       "      <td>NaN</td>\n",
       "      <td>False</td>\n",
       "      <td>AutoLovepon</td>\n",
       "      <td>NaN</td>\n",
       "      <td>NaN</td>\n",
       "      <td>NaN</td>\n",
       "      <td>[]</td>\n",
       "      <td>...</td>\n",
       "      <td>NaN</td>\n",
       "      <td>Dumbbell Nan Kilo Moteru? - Episode 1 discussion</td>\n",
       "      <td>0</td>\n",
       "      <td>1091</td>\n",
       "      <td>https://www.reddit.com/r/anime/comments/c8osvp/dumbbell_nan_kilo_moteru_episode_1_discussion/</td>\n",
       "      <td>[]</td>\n",
       "      <td>NaN</td>\n",
       "      <td>False</td>\n",
       "      <td>all_ads</td>\n",
       "      <td>6</td>\n",
       "    </tr>\n",
       "    <tr>\n",
       "      <th>4</th>\n",
       "      <td>[]</td>\n",
       "      <td>False</td>\n",
       "      <td>NaN</td>\n",
       "      <td>NaN</td>\n",
       "      <td>False</td>\n",
       "      <td>ShaKing807</td>\n",
       "      <td>NaN</td>\n",
       "      <td>#2e51a2</td>\n",
       "      <td>MAL</td>\n",
       "      <td>[]</td>\n",
       "      <td>...</td>\n",
       "      <td>NaN</td>\n",
       "      <td>Best Girl 6: Starting Salt in Another Contest! Round 5 Bracket C!</td>\n",
       "      <td>0</td>\n",
       "      <td>279</td>\n",
       "      <td>https://www.reddit.com/r/anime/comments/c8u89t/best_girl_6_starting_salt_in_another_contest/</td>\n",
       "      <td>[]</td>\n",
       "      <td>NaN</td>\n",
       "      <td>False</td>\n",
       "      <td>all_ads</td>\n",
       "      <td>6</td>\n",
       "    </tr>\n",
       "  </tbody>\n",
       "</table>\n",
       "<p>5 rows × 104 columns</p>\n",
       "</div>"
      ],
      "text/plain": [
       "  all_awardings  allow_live_comments  approved_at_utc  approved_by  archived  \\\n",
       "0            []                False              NaN          NaN     False   \n",
       "1            []                False              NaN          NaN     False   \n",
       "2            []                 True              NaN          NaN     False   \n",
       "3            []                 True              NaN          NaN     False   \n",
       "4            []                False              NaN          NaN     False   \n",
       "\n",
       "          author author_cakeday author_flair_background_color  \\\n",
       "0      pittman66            NaN                           NaN   \n",
       "1       AnimeMod            NaN                           NaN   \n",
       "2  MinecrafterPH            NaN                       #2e51a2   \n",
       "3    AutoLovepon            NaN                           NaN   \n",
       "4     ShaKing807            NaN                       #2e51a2   \n",
       "\n",
       "  author_flair_css_class author_flair_richtext  ... thumbnail_width  \\\n",
       "0                    MAL                    []  ...             NaN   \n",
       "1                    NaN                    []  ...             NaN   \n",
       "2                    MAL                    []  ...             NaN   \n",
       "3                    NaN                    []  ...             NaN   \n",
       "4                    MAL                    []  ...             NaN   \n",
       "\n",
       "                                                               title  \\\n",
       "0                      Wiki Overhaul Month, Week 2: Watch Order Wiki   \n",
       "1         Recommendation Tuesdays Megathread - Week of July 02, 2019   \n",
       "2     My Hero Academia Season 4 is reportedly listed for 25 episodes   \n",
       "3                   Dumbbell Nan Kilo Moteru? - Episode 1 discussion   \n",
       "4  Best Girl 6: Starting Salt in Another Contest! Round 5 Bracket C!   \n",
       "\n",
       "  total_awards_received   ups  \\\n",
       "0                     0    67   \n",
       "1                     0    61   \n",
       "2                     0  5778   \n",
       "3                     0  1091   \n",
       "4                     0   279   \n",
       "\n",
       "                                                                                               url  \\\n",
       "0      https://www.reddit.com/r/anime/comments/c822ra/wiki_overhaul_month_week_2_watch_order_wiki/   \n",
       "1  https://www.reddit.com/r/anime/comments/c823rj/recommendation_tuesdays_megathread_week_of_july/   \n",
       "2   https://www.reddit.com/r/anime/comments/c8o432/my_hero_academia_season_4_is_reportedly_listed/   \n",
       "3    https://www.reddit.com/r/anime/comments/c8osvp/dumbbell_nan_kilo_moteru_episode_1_discussion/   \n",
       "4     https://www.reddit.com/r/anime/comments/c8u89t/best_girl_6_starting_salt_in_another_contest/   \n",
       "\n",
       "  user_reports  view_count  visited  whitelist_status  wls  \n",
       "0           []         NaN    False           all_ads    6  \n",
       "1           []         NaN    False           all_ads    6  \n",
       "2           []         NaN    False           all_ads    6  \n",
       "3           []         NaN    False           all_ads    6  \n",
       "4           []         NaN    False           all_ads    6  \n",
       "\n",
       "[5 rows x 104 columns]"
      ]
     },
     "execution_count": 4,
     "metadata": {},
     "output_type": "execute_result"
    }
   ],
   "source": [
    "df.head()"
   ]
  },
  {
   "cell_type": "code",
   "execution_count": 5,
   "metadata": {},
   "outputs": [
    {
     "data": {
      "text/plain": [
       "anime     1619\n",
       "KDRAMA     500\n",
       "Name: subreddit, dtype: int64"
      ]
     },
     "execution_count": 5,
     "metadata": {},
     "output_type": "execute_result"
    }
   ],
   "source": [
    "df['subreddit'].value_counts()"
   ]
  },
  {
   "cell_type": "markdown",
   "metadata": {},
   "source": [
    ">The unbalanced classes may pose a problem for my model because it may struggle with assigning new data to the kdrama class. "
   ]
  },
  {
   "cell_type": "code",
   "execution_count": 6,
   "metadata": {},
   "outputs": [
    {
     "data": {
      "text/html": [
       "<div>\n",
       "<style scoped>\n",
       "    .dataframe tbody tr th:only-of-type {\n",
       "        vertical-align: middle;\n",
       "    }\n",
       "\n",
       "    .dataframe tbody tr th {\n",
       "        vertical-align: top;\n",
       "    }\n",
       "\n",
       "    .dataframe thead th {\n",
       "        text-align: right;\n",
       "    }\n",
       "</style>\n",
       "<table border=\"1\" class=\"dataframe\">\n",
       "  <thead>\n",
       "    <tr style=\"text-align: right;\">\n",
       "      <th></th>\n",
       "      <th>subreddit</th>\n",
       "      <th>selftext</th>\n",
       "    </tr>\n",
       "  </thead>\n",
       "  <tbody>\n",
       "    <tr>\n",
       "      <th>0</th>\n",
       "      <td>anime</td>\n",
       "      <td>Hi everyone, welcome to the Wiki Overhaul Month! The mod team along with a select few users are looking to improve our [Wiki](https://www.reddit.com/r/anime/wiki) as it has outdated information, o...</td>\n",
       "    </tr>\n",
       "    <tr>\n",
       "      <th>1</th>\n",
       "      <td>anime</td>\n",
       "      <td>\\nNeed a recommendation or have one to share? This is your thread! This thread is active all week, so you can post in it when it's not Tuesday and still get an answer! :)\\n\\nIf you have a recommen...</td>\n",
       "    </tr>\n",
       "    <tr>\n",
       "      <th>2</th>\n",
       "      <td>anime</td>\n",
       "      <td>According to [this post](https://i.imgur.com/bQIt4oL.jpg) on the AnimeTV YouTube channel, MHA S4 is listed for 25 episodes.\\n\\nHowever, no official confirmation was given.</td>\n",
       "    </tr>\n",
       "    <tr>\n",
       "      <th>3</th>\n",
       "      <td>anime</td>\n",
       "      <td>*Dumbbell Nan Kilo Moteru?*, episode 1\\n\\nAlternative names: *Danberu Nan Kiro Moteru?, How Heavy Are the Dumbbells You Lift?*\\n\\n# [Rate this episode here.](https://youpoll.me/15869/)\\n\\n**Remind...</td>\n",
       "    </tr>\n",
       "    <tr>\n",
       "      <th>4</th>\n",
       "      <td>anime</td>\n",
       "      <td>###[Vote here](https://animebracket.com/vote/best-girl-6-starting-salt-in-another-contest/)\\n\\n###[Results here](https://animebracket.com/results/best-girl-6-starting-salt-in-another-contest?group...</td>\n",
       "    </tr>\n",
       "  </tbody>\n",
       "</table>\n",
       "</div>"
      ],
      "text/plain": [
       "  subreddit  \\\n",
       "0     anime   \n",
       "1     anime   \n",
       "2     anime   \n",
       "3     anime   \n",
       "4     anime   \n",
       "\n",
       "                                                                                                                                                                                                  selftext  \n",
       "0  Hi everyone, welcome to the Wiki Overhaul Month! The mod team along with a select few users are looking to improve our [Wiki](https://www.reddit.com/r/anime/wiki) as it has outdated information, o...  \n",
       "1  \\nNeed a recommendation or have one to share? This is your thread! This thread is active all week, so you can post in it when it's not Tuesday and still get an answer! :)\\n\\nIf you have a recommen...  \n",
       "2                              According to [this post](https://i.imgur.com/bQIt4oL.jpg) on the AnimeTV YouTube channel, MHA S4 is listed for 25 episodes.\\n\\nHowever, no official confirmation was given.  \n",
       "3  *Dumbbell Nan Kilo Moteru?*, episode 1\\n\\nAlternative names: *Danberu Nan Kiro Moteru?, How Heavy Are the Dumbbells You Lift?*\\n\\n# [Rate this episode here.](https://youpoll.me/15869/)\\n\\n**Remind...  \n",
       "4  ###[Vote here](https://animebracket.com/vote/best-girl-6-starting-salt-in-another-contest/)\\n\\n###[Results here](https://animebracket.com/results/best-girl-6-starting-salt-in-another-contest?group...  "
      ]
     },
     "execution_count": 6,
     "metadata": {},
     "output_type": "execute_result"
    }
   ],
   "source": [
    "df = df[['subreddit', 'selftext']]\n",
    "df.head()"
   ]
  },
  {
   "cell_type": "code",
   "execution_count": 7,
   "metadata": {},
   "outputs": [
    {
     "data": {
      "text/plain": [
       "1"
      ]
     },
     "execution_count": 7,
     "metadata": {},
     "output_type": "execute_result"
    }
   ],
   "source": [
    "df.isnull().sum().sum()"
   ]
  },
  {
   "cell_type": "markdown",
   "metadata": {},
   "source": [
    "I'm going to drop the NaN value because it is most likely a meme/gif and I doubt that it can't be used for a similar post in either subreddit."
   ]
  },
  {
   "cell_type": "code",
   "execution_count": 8,
   "metadata": {},
   "outputs": [],
   "source": [
    "df.dropna(inplace = True)"
   ]
  },
  {
   "cell_type": "code",
   "execution_count": 9,
   "metadata": {},
   "outputs": [
    {
     "data": {
      "text/plain": [
       "0"
      ]
     },
     "execution_count": 9,
     "metadata": {},
     "output_type": "execute_result"
    }
   ],
   "source": [
    "df.isnull().sum().sum()"
   ]
  },
  {
   "cell_type": "markdown",
   "metadata": {},
   "source": [
    "### Making post text and titles lists for Sentiment Analysis"
   ]
  },
  {
   "cell_type": "code",
   "execution_count": 10,
   "metadata": {},
   "outputs": [],
   "source": [
    "subreddit_text = list(df['selftext'])"
   ]
  },
  {
   "cell_type": "markdown",
   "metadata": {},
   "source": [
    "***\n",
    "# Sentiment Analysis"
   ]
  },
  {
   "cell_type": "code",
   "execution_count": 11,
   "metadata": {},
   "outputs": [],
   "source": [
    "#Instantiate Sentiment Intensity Analyszer\n",
    "sia = SentimentIntensityAnalyzer()"
   ]
  },
  {
   "cell_type": "markdown",
   "metadata": {},
   "source": [
    "The Sentiment Intensity Analyzer(sia) accepts a string and returns a dictionary of scores on the positivity, negativity, neutrality, and total sentiment attached with that string. \n",
    "> * The sum of neg, pos, and neu scores adds to 1\n",
    "* neg, pos, and neu scores are on a 0 - 1 scale\n",
    "* The compound score is on a -1 to 1 scale, where higher negative number are associated with high negativity"
   ]
  },
  {
   "cell_type": "markdown",
   "metadata": {},
   "source": [
    "This analyzer has been tested on social media data, so it is adept at handling reddit posts, twitterings (or whatever they're called), etc. Some examples are below"
   ]
  },
  {
   "cell_type": "code",
   "execution_count": 12,
   "metadata": {},
   "outputs": [
    {
     "name": "stdout",
     "output_type": "stream",
     "text": [
      "Hi everyone, welcome to the Wiki Overhaul Month! The mod team along with a select few users are looking to improve our [Wiki](https://www.reddit.com/r/anime/wiki) as it has outdated information, organized poorly, or just needs a face lift. Each week we will be hitting major parts of the wiki. The current schedule is as follows:\n",
      "\n",
      "######Week 1 : What needs fixed, organization, and general suggestions\n",
      "\n",
      "######Week 2 (This week): [Watch Order Wiki](https://www.reddit.com/r/anime/w/watch_order)\n",
      "\n",
      "######Week 3: [FAQ](https://www.reddit.com/r/anime/w/faaq)\n",
      "\n",
      "######Week 4: Smaller Wiki Pages (Legal Streams, Anime-Related Subs, /r/anime sings, album releases, AMAs, surveys, etc.)\n",
      "\n",
      "######Week 5 &amp; 6: [Recommendations](https://www.reddit.com/r/anime/w/recommendations)\n",
      "\n",
      "######Week 7: Any other page that needs major attention (Maybe Rewatch/Airing Discussion, if not, this week will be ignored)\n",
      "\n",
      "So as mentioned above, this week we are looking at:\n",
      "\n",
      "#[Watch Order Wiki](https://www.reddit.com/r/anime/w/watch_order)\n",
      "\n",
      "Please take a look at the wiki, and give suggestions on: \n",
      "\n",
      "* Organization\n",
      "* Anime that should be part of it \n",
      "* Orders that need tweaked or updated\n",
      "* Anime that probably shouldn't be there and could be excluded (For example, if the series is fairly straightforward)\n",
      "\n",
      "#PLEASE GIVE US THE WATCH ORDER AND LINKS. DON'T EXPECT US TO KNOW THEM OFF HAND.\n",
      "\n",
      "Also have it ready in a format that can be copy and pasted. It makes it easier for us, and doesn't make us guess on anime we've never seen. \n",
      "\n",
      "We'll also take into account suggestions of more controversial watch orders (ie. Fate/Stay Night, Index/Railgun), but ultimate decisions will be made by the wiki team on which one(s) we'll be including in the wiki. \n",
      "\n",
      "This wiki has the following contributors who will be browsing this thread and responding to comments:\n",
      "\n",
      "* /u/Gaporigo\n",
      "* /u/urban287 \n",
      "* /u/RX-Nota-II\n",
      "* /u/MAD_SCIENTIST_001\n",
      "* /u/tacticianjackk\n",
      "* /u/Hyoizaburo\n"
     ]
    }
   ],
   "source": [
    "print(subreddit_text[0])"
   ]
  },
  {
   "cell_type": "code",
   "execution_count": 13,
   "metadata": {},
   "outputs": [
    {
     "data": {
      "text/plain": [
       "{'neg': 0.012, 'neu': 0.943, 'pos': 0.045, 'compound': 0.7758}"
      ]
     },
     "execution_count": 13,
     "metadata": {},
     "output_type": "execute_result"
    }
   ],
   "source": [
    "sia.polarity_scores(subreddit_text[0])"
   ]
  },
  {
   "cell_type": "markdown",
   "metadata": {},
   "source": [
    "Here we can see the sia at work. This reddit post has a lot of neutral words, but the words with sentiment attached to them have significantly higher positive connotation associated to them than negative- hence the positive compound score. "
   ]
  },
  {
   "cell_type": "code",
   "execution_count": 14,
   "metadata": {},
   "outputs": [],
   "source": [
    "posts = [sia.polarity_scores(each) for each in subreddit_text]"
   ]
  },
  {
   "cell_type": "code",
   "execution_count": 15,
   "metadata": {},
   "outputs": [
    {
     "data": {
      "text/html": [
       "<div>\n",
       "<style scoped>\n",
       "    .dataframe tbody tr th:only-of-type {\n",
       "        vertical-align: middle;\n",
       "    }\n",
       "\n",
       "    .dataframe tbody tr th {\n",
       "        vertical-align: top;\n",
       "    }\n",
       "\n",
       "    .dataframe thead th {\n",
       "        text-align: right;\n",
       "    }\n",
       "</style>\n",
       "<table border=\"1\" class=\"dataframe\">\n",
       "  <thead>\n",
       "    <tr style=\"text-align: right;\">\n",
       "      <th></th>\n",
       "      <th>compound</th>\n",
       "      <th>neg</th>\n",
       "      <th>neu</th>\n",
       "      <th>pos</th>\n",
       "    </tr>\n",
       "  </thead>\n",
       "  <tbody>\n",
       "    <tr>\n",
       "      <th>0</th>\n",
       "      <td>0.7758</td>\n",
       "      <td>0.012</td>\n",
       "      <td>0.943</td>\n",
       "      <td>0.045</td>\n",
       "    </tr>\n",
       "    <tr>\n",
       "      <th>1</th>\n",
       "      <td>0.9772</td>\n",
       "      <td>0.007</td>\n",
       "      <td>0.815</td>\n",
       "      <td>0.178</td>\n",
       "    </tr>\n",
       "    <tr>\n",
       "      <th>2</th>\n",
       "      <td>-0.2960</td>\n",
       "      <td>0.095</td>\n",
       "      <td>0.905</td>\n",
       "      <td>0.000</td>\n",
       "    </tr>\n",
       "    <tr>\n",
       "      <th>3</th>\n",
       "      <td>-0.4314</td>\n",
       "      <td>0.102</td>\n",
       "      <td>0.813</td>\n",
       "      <td>0.086</td>\n",
       "    </tr>\n",
       "    <tr>\n",
       "      <th>4</th>\n",
       "      <td>0.8463</td>\n",
       "      <td>0.000</td>\n",
       "      <td>0.587</td>\n",
       "      <td>0.413</td>\n",
       "    </tr>\n",
       "  </tbody>\n",
       "</table>\n",
       "</div>"
      ],
      "text/plain": [
       "   compound    neg    neu    pos\n",
       "0    0.7758  0.012  0.943  0.045\n",
       "1    0.9772  0.007  0.815  0.178\n",
       "2   -0.2960  0.095  0.905  0.000\n",
       "3   -0.4314  0.102  0.813  0.086\n",
       "4    0.8463  0.000  0.587  0.413"
      ]
     },
     "execution_count": 15,
     "metadata": {},
     "output_type": "execute_result"
    }
   ],
   "source": [
    "posts_df = pd.DataFrame(posts)\n",
    "\n",
    "posts_df.head()"
   ]
  },
  {
   "cell_type": "code",
   "execution_count": 16,
   "metadata": {},
   "outputs": [
    {
     "data": {
      "text/html": [
       "<div>\n",
       "<style scoped>\n",
       "    .dataframe tbody tr th:only-of-type {\n",
       "        vertical-align: middle;\n",
       "    }\n",
       "\n",
       "    .dataframe tbody tr th {\n",
       "        vertical-align: top;\n",
       "    }\n",
       "\n",
       "    .dataframe thead th {\n",
       "        text-align: right;\n",
       "    }\n",
       "</style>\n",
       "<table border=\"1\" class=\"dataframe\">\n",
       "  <thead>\n",
       "    <tr style=\"text-align: right;\">\n",
       "      <th></th>\n",
       "      <th>compound</th>\n",
       "      <th>neg</th>\n",
       "      <th>neu</th>\n",
       "      <th>pos</th>\n",
       "      <th>subreddit</th>\n",
       "      <th>selftext</th>\n",
       "    </tr>\n",
       "  </thead>\n",
       "  <tbody>\n",
       "    <tr>\n",
       "      <th>0</th>\n",
       "      <td>0.7758</td>\n",
       "      <td>0.012</td>\n",
       "      <td>0.943</td>\n",
       "      <td>0.045</td>\n",
       "      <td>Anime</td>\n",
       "      <td>Hi everyone, welcome to the Wiki Overhaul Month! The mod team along with a select few users are looking to improve our [Wiki](https://www.reddit.com/r/anime/wiki) as it has outdated information, o...</td>\n",
       "    </tr>\n",
       "    <tr>\n",
       "      <th>1</th>\n",
       "      <td>0.9772</td>\n",
       "      <td>0.007</td>\n",
       "      <td>0.815</td>\n",
       "      <td>0.178</td>\n",
       "      <td>Anime</td>\n",
       "      <td>\\nNeed a recommendation or have one to share? This is your thread! This thread is active all week, so you can post in it when it's not Tuesday and still get an answer! :)\\n\\nIf you have a recommen...</td>\n",
       "    </tr>\n",
       "    <tr>\n",
       "      <th>2</th>\n",
       "      <td>-0.2960</td>\n",
       "      <td>0.095</td>\n",
       "      <td>0.905</td>\n",
       "      <td>0.000</td>\n",
       "      <td>Anime</td>\n",
       "      <td>According to [this post](https://i.imgur.com/bQIt4oL.jpg) on the AnimeTV YouTube channel, MHA S4 is listed for 25 episodes.\\n\\nHowever, no official confirmation was given.</td>\n",
       "    </tr>\n",
       "    <tr>\n",
       "      <th>3</th>\n",
       "      <td>-0.4314</td>\n",
       "      <td>0.102</td>\n",
       "      <td>0.813</td>\n",
       "      <td>0.086</td>\n",
       "      <td>Anime</td>\n",
       "      <td>*Dumbbell Nan Kilo Moteru?*, episode 1\\n\\nAlternative names: *Danberu Nan Kiro Moteru?, How Heavy Are the Dumbbells You Lift?*\\n\\n# [Rate this episode here.](https://youpoll.me/15869/)\\n\\n**Remind...</td>\n",
       "    </tr>\n",
       "    <tr>\n",
       "      <th>4</th>\n",
       "      <td>0.8463</td>\n",
       "      <td>0.000</td>\n",
       "      <td>0.587</td>\n",
       "      <td>0.413</td>\n",
       "      <td>Anime</td>\n",
       "      <td>###[Vote here](https://animebracket.com/vote/best-girl-6-starting-salt-in-another-contest/)\\n\\n###[Results here](https://animebracket.com/results/best-girl-6-starting-salt-in-another-contest?group...</td>\n",
       "    </tr>\n",
       "  </tbody>\n",
       "</table>\n",
       "</div>"
      ],
      "text/plain": [
       "   compound    neg    neu    pos subreddit  \\\n",
       "0    0.7758  0.012  0.943  0.045     Anime   \n",
       "1    0.9772  0.007  0.815  0.178     Anime   \n",
       "2   -0.2960  0.095  0.905  0.000     Anime   \n",
       "3   -0.4314  0.102  0.813  0.086     Anime   \n",
       "4    0.8463  0.000  0.587  0.413     Anime   \n",
       "\n",
       "                                                                                                                                                                                                  selftext  \n",
       "0  Hi everyone, welcome to the Wiki Overhaul Month! The mod team along with a select few users are looking to improve our [Wiki](https://www.reddit.com/r/anime/wiki) as it has outdated information, o...  \n",
       "1  \\nNeed a recommendation or have one to share? This is your thread! This thread is active all week, so you can post in it when it's not Tuesday and still get an answer! :)\\n\\nIf you have a recommen...  \n",
       "2                              According to [this post](https://i.imgur.com/bQIt4oL.jpg) on the AnimeTV YouTube channel, MHA S4 is listed for 25 episodes.\\n\\nHowever, no official confirmation was given.  \n",
       "3  *Dumbbell Nan Kilo Moteru?*, episode 1\\n\\nAlternative names: *Danberu Nan Kiro Moteru?, How Heavy Are the Dumbbells You Lift?*\\n\\n# [Rate this episode here.](https://youpoll.me/15869/)\\n\\n**Remind...  \n",
       "4  ###[Vote here](https://animebracket.com/vote/best-girl-6-starting-salt-in-another-contest/)\\n\\n###[Results here](https://animebracket.com/results/best-girl-6-starting-salt-in-another-contest?group...  "
      ]
     },
     "execution_count": 16,
     "metadata": {},
     "output_type": "execute_result"
    }
   ],
   "source": [
    "sentiment_df = pd.concat([posts_df, df.reset_index(drop = True)], axis = 1)\n",
    "sentiment_df['subreddit'] = sentiment_df['subreddit'].map({'anime':'Anime',\n",
    "                             'KDRAMA':'KDrama'})\n",
    "sentiment_df.head()"
   ]
  },
  {
   "cell_type": "code",
   "execution_count": 17,
   "metadata": {},
   "outputs": [
    {
     "data": {
      "text/html": [
       "<div>\n",
       "<style scoped>\n",
       "    .dataframe tbody tr th:only-of-type {\n",
       "        vertical-align: middle;\n",
       "    }\n",
       "\n",
       "    .dataframe tbody tr th {\n",
       "        vertical-align: top;\n",
       "    }\n",
       "\n",
       "    .dataframe thead th {\n",
       "        text-align: right;\n",
       "    }\n",
       "</style>\n",
       "<table border=\"1\" class=\"dataframe\">\n",
       "  <thead>\n",
       "    <tr style=\"text-align: right;\">\n",
       "      <th></th>\n",
       "      <th>compound</th>\n",
       "      <th>neg</th>\n",
       "      <th>neu</th>\n",
       "      <th>pos</th>\n",
       "    </tr>\n",
       "  </thead>\n",
       "  <tbody>\n",
       "    <tr>\n",
       "      <th>count</th>\n",
       "      <td>2118.000000</td>\n",
       "      <td>2118.000000</td>\n",
       "      <td>2118.000000</td>\n",
       "      <td>2118.000000</td>\n",
       "    </tr>\n",
       "    <tr>\n",
       "      <th>mean</th>\n",
       "      <td>0.352040</td>\n",
       "      <td>0.065969</td>\n",
       "      <td>0.797439</td>\n",
       "      <td>0.136594</td>\n",
       "    </tr>\n",
       "    <tr>\n",
       "      <th>std</th>\n",
       "      <td>0.607322</td>\n",
       "      <td>0.070894</td>\n",
       "      <td>0.111759</td>\n",
       "      <td>0.097982</td>\n",
       "    </tr>\n",
       "    <tr>\n",
       "      <th>min</th>\n",
       "      <td>-0.999600</td>\n",
       "      <td>0.000000</td>\n",
       "      <td>0.248000</td>\n",
       "      <td>0.000000</td>\n",
       "    </tr>\n",
       "    <tr>\n",
       "      <th>25%</th>\n",
       "      <td>-0.009675</td>\n",
       "      <td>0.000000</td>\n",
       "      <td>0.729000</td>\n",
       "      <td>0.072000</td>\n",
       "    </tr>\n",
       "    <tr>\n",
       "      <th>50%</th>\n",
       "      <td>0.556200</td>\n",
       "      <td>0.052000</td>\n",
       "      <td>0.802000</td>\n",
       "      <td>0.124000</td>\n",
       "    </tr>\n",
       "    <tr>\n",
       "      <th>75%</th>\n",
       "      <td>0.895500</td>\n",
       "      <td>0.099000</td>\n",
       "      <td>0.869000</td>\n",
       "      <td>0.189000</td>\n",
       "    </tr>\n",
       "    <tr>\n",
       "      <th>max</th>\n",
       "      <td>1.000000</td>\n",
       "      <td>0.457000</td>\n",
       "      <td>1.000000</td>\n",
       "      <td>0.706000</td>\n",
       "    </tr>\n",
       "  </tbody>\n",
       "</table>\n",
       "</div>"
      ],
      "text/plain": [
       "          compound          neg          neu          pos\n",
       "count  2118.000000  2118.000000  2118.000000  2118.000000\n",
       "mean      0.352040     0.065969     0.797439     0.136594\n",
       "std       0.607322     0.070894     0.111759     0.097982\n",
       "min      -0.999600     0.000000     0.248000     0.000000\n",
       "25%      -0.009675     0.000000     0.729000     0.072000\n",
       "50%       0.556200     0.052000     0.802000     0.124000\n",
       "75%       0.895500     0.099000     0.869000     0.189000\n",
       "max       1.000000     0.457000     1.000000     0.706000"
      ]
     },
     "execution_count": 17,
     "metadata": {},
     "output_type": "execute_result"
    }
   ],
   "source": [
    "sentiment_df.describe()"
   ]
  },
  {
   "cell_type": "markdown",
   "metadata": {},
   "source": [
    "Above we can see the general spread of the scores for both anime and kdrama subreddits. Some takeaways are:\n",
    "> * Our average compound score is $0.361$, which tells me that people tend to post positively about animes and kdramas. \n",
    "* We have a max and min compound score of $1$ and $-1$ respectively, letting me know that there are some posts that are entirely positive and negative.\n",
    "* At least $75 \\%$ of my posts have a neutral score of at least $.735$, which tells me that people are either busy building to what they want to say, or aren't too opinionated. I'm going to go out on a limb and say it's the former. "
   ]
  },
  {
   "cell_type": "markdown",
   "metadata": {},
   "source": [
    "### Highest Scoring Negative and Positive Posts\n",
    "\n",
    "> * Anime has the $4$ most negative comound posts and KDrama has the $4$ most positive compound posts\n",
    "* Anime has the top $4$ most positive posts and the top 5 most negative posts"
   ]
  },
  {
   "cell_type": "markdown",
   "metadata": {},
   "source": [
    "* Most Negative Compound Scoring Posts"
   ]
  },
  {
   "cell_type": "code",
   "execution_count": 18,
   "metadata": {},
   "outputs": [
    {
     "data": {
      "text/html": [
       "<div>\n",
       "<style scoped>\n",
       "    .dataframe tbody tr th:only-of-type {\n",
       "        vertical-align: middle;\n",
       "    }\n",
       "\n",
       "    .dataframe tbody tr th {\n",
       "        vertical-align: top;\n",
       "    }\n",
       "\n",
       "    .dataframe thead th {\n",
       "        text-align: right;\n",
       "    }\n",
       "</style>\n",
       "<table border=\"1\" class=\"dataframe\">\n",
       "  <thead>\n",
       "    <tr style=\"text-align: right;\">\n",
       "      <th></th>\n",
       "      <th>compound</th>\n",
       "      <th>neg</th>\n",
       "      <th>neu</th>\n",
       "      <th>pos</th>\n",
       "      <th>subreddit</th>\n",
       "      <th>selftext</th>\n",
       "    </tr>\n",
       "  </thead>\n",
       "  <tbody>\n",
       "    <tr>\n",
       "      <th>206</th>\n",
       "      <td>-0.9996</td>\n",
       "      <td>0.207</td>\n",
       "      <td>0.698</td>\n",
       "      <td>0.095</td>\n",
       "      <td>Anime</td>\n",
       "      <td>I realise this is a little late, but I just watched the dub version of Erwin's iconic speech in Episode 53. This scene was my favourite scene in the story, and probably my favourite scene out of e...</td>\n",
       "    </tr>\n",
       "    <tr>\n",
       "      <th>992</th>\n",
       "      <td>-0.9993</td>\n",
       "      <td>0.178</td>\n",
       "      <td>0.692</td>\n",
       "      <td>0.129</td>\n",
       "      <td>Anime</td>\n",
       "      <td>Some people are probably familiar with this but No Game No Life is one of my most hated anime of all time. However, I think what’s interesting about this is why I think this is such an awful serie...</td>\n",
       "    </tr>\n",
       "    <tr>\n",
       "      <th>327</th>\n",
       "      <td>-0.9987</td>\n",
       "      <td>0.170</td>\n",
       "      <td>0.735</td>\n",
       "      <td>0.095</td>\n",
       "      <td>Anime</td>\n",
       "      <td>Did anyone else not enjoy Saga of Tanya the evil. For me it was a story of a stupid aethiest who refused to take a critical look at their own flawed world view in the face of literally God. It mak...</td>\n",
       "    </tr>\n",
       "    <tr>\n",
       "      <th>805</th>\n",
       "      <td>-0.9982</td>\n",
       "      <td>0.141</td>\n",
       "      <td>0.751</td>\n",
       "      <td>0.108</td>\n",
       "      <td>Anime</td>\n",
       "      <td>Re: Zero - Starting Life In Another World is one of the most popular anime of the current generation. It’s gained a massive following regarding it being about the main protagonist who goes on this...</td>\n",
       "    </tr>\n",
       "    <tr>\n",
       "      <th>2075</th>\n",
       "      <td>-0.9979</td>\n",
       "      <td>0.233</td>\n",
       "      <td>0.644</td>\n",
       "      <td>0.123</td>\n",
       "      <td>KDrama</td>\n",
       "      <td>I've just finished watching Empress Ki this morning and my feeling for it hasn't over yet.\\n\\nAs searching for others' comments about this series, I see a lot of people hate and even despise the c...</td>\n",
       "    </tr>\n",
       "  </tbody>\n",
       "</table>\n",
       "</div>"
      ],
      "text/plain": [
       "      compound    neg    neu    pos subreddit  \\\n",
       "206    -0.9996  0.207  0.698  0.095     Anime   \n",
       "992    -0.9993  0.178  0.692  0.129     Anime   \n",
       "327    -0.9987  0.170  0.735  0.095     Anime   \n",
       "805    -0.9982  0.141  0.751  0.108     Anime   \n",
       "2075   -0.9979  0.233  0.644  0.123    KDrama   \n",
       "\n",
       "                                                                                                                                                                                                     selftext  \n",
       "206   I realise this is a little late, but I just watched the dub version of Erwin's iconic speech in Episode 53. This scene was my favourite scene in the story, and probably my favourite scene out of e...  \n",
       "992   Some people are probably familiar with this but No Game No Life is one of my most hated anime of all time. However, I think what’s interesting about this is why I think this is such an awful serie...  \n",
       "327   Did anyone else not enjoy Saga of Tanya the evil. For me it was a story of a stupid aethiest who refused to take a critical look at their own flawed world view in the face of literally God. It mak...  \n",
       "805   Re: Zero - Starting Life In Another World is one of the most popular anime of the current generation. It’s gained a massive following regarding it being about the main protagonist who goes on this...  \n",
       "2075  I've just finished watching Empress Ki this morning and my feeling for it hasn't over yet.\\n\\nAs searching for others' comments about this series, I see a lot of people hate and even despise the c...  "
      ]
     },
     "execution_count": 18,
     "metadata": {},
     "output_type": "execute_result"
    }
   ],
   "source": [
    "sentiment_df.sort_values(by = 'compound', ascending = True).head()"
   ]
  },
  {
   "cell_type": "markdown",
   "metadata": {},
   "source": [
    "* Most Positive Compount Scoring Posts"
   ]
  },
  {
   "cell_type": "code",
   "execution_count": 19,
   "metadata": {},
   "outputs": [
    {
     "data": {
      "text/html": [
       "<div>\n",
       "<style scoped>\n",
       "    .dataframe tbody tr th:only-of-type {\n",
       "        vertical-align: middle;\n",
       "    }\n",
       "\n",
       "    .dataframe tbody tr th {\n",
       "        vertical-align: top;\n",
       "    }\n",
       "\n",
       "    .dataframe thead th {\n",
       "        text-align: right;\n",
       "    }\n",
       "</style>\n",
       "<table border=\"1\" class=\"dataframe\">\n",
       "  <thead>\n",
       "    <tr style=\"text-align: right;\">\n",
       "      <th></th>\n",
       "      <th>compound</th>\n",
       "      <th>neg</th>\n",
       "      <th>neu</th>\n",
       "      <th>pos</th>\n",
       "      <th>subreddit</th>\n",
       "      <th>selftext</th>\n",
       "    </tr>\n",
       "  </thead>\n",
       "  <tbody>\n",
       "    <tr>\n",
       "      <th>1725</th>\n",
       "      <td>1.0000</td>\n",
       "      <td>0.075</td>\n",
       "      <td>0.764</td>\n",
       "      <td>0.162</td>\n",
       "      <td>KDrama</td>\n",
       "      <td>**Links to the other parts of the series:**\\n\\n[Part 1](https://www.reddit.com/r/KDRAMA/comments/c12lyy/the_kdramas_of_the_first_half_of_2019_a_review/) **I** [Part 3](https://www.reddit.com/r/KDR...</td>\n",
       "    </tr>\n",
       "    <tr>\n",
       "      <th>1679</th>\n",
       "      <td>1.0000</td>\n",
       "      <td>0.074</td>\n",
       "      <td>0.754</td>\n",
       "      <td>0.172</td>\n",
       "      <td>KDrama</td>\n",
       "      <td>**Links to the other parts of the series:**\\n\\n[Part 1 ](https://www.reddit.com/r/KDRAMA/comments/c12lyy/the_kdramas_of_the_first_half_of_2019_a_review/)**I** [Part 2](https://www.reddit.com/r/KDR...</td>\n",
       "    </tr>\n",
       "    <tr>\n",
       "      <th>1693</th>\n",
       "      <td>0.9999</td>\n",
       "      <td>0.096</td>\n",
       "      <td>0.668</td>\n",
       "      <td>0.236</td>\n",
       "      <td>KDrama</td>\n",
       "      <td>I started watching Korean drama earlier this year and I wanted to write a little bit about my experience with it! First off - a bit of background. I’m a Scottish woman in my late twenties. I’m not...</td>\n",
       "    </tr>\n",
       "    <tr>\n",
       "      <th>1706</th>\n",
       "      <td>0.9999</td>\n",
       "      <td>0.077</td>\n",
       "      <td>0.773</td>\n",
       "      <td>0.150</td>\n",
       "      <td>KDrama</td>\n",
       "      <td>**Links to the other parts of the series:**\\n\\n[Part 1 ](https://www.reddit.com/r/KDRAMA/comments/c12lyy/the_kdramas_of_the_first_half_of_2019_a_review/)**I** [Part 2](https://www.reddit.com/r/KDR...</td>\n",
       "    </tr>\n",
       "    <tr>\n",
       "      <th>1530</th>\n",
       "      <td>0.9999</td>\n",
       "      <td>0.078</td>\n",
       "      <td>0.729</td>\n",
       "      <td>0.193</td>\n",
       "      <td>Anime</td>\n",
       "      <td># Episode 07 World-Level Ability\\n\\n[Previous Episode](https://www.reddit.com/r/anime/comments/ca4ux9/gundam_build_fighters_rewatch_episode_6_discussion/) | [Next Episode](https://www.reddit.com/r...</td>\n",
       "    </tr>\n",
       "  </tbody>\n",
       "</table>\n",
       "</div>"
      ],
      "text/plain": [
       "      compound    neg    neu    pos subreddit  \\\n",
       "1725    1.0000  0.075  0.764  0.162    KDrama   \n",
       "1679    1.0000  0.074  0.754  0.172    KDrama   \n",
       "1693    0.9999  0.096  0.668  0.236    KDrama   \n",
       "1706    0.9999  0.077  0.773  0.150    KDrama   \n",
       "1530    0.9999  0.078  0.729  0.193     Anime   \n",
       "\n",
       "                                                                                                                                                                                                     selftext  \n",
       "1725  **Links to the other parts of the series:**\\n\\n[Part 1](https://www.reddit.com/r/KDRAMA/comments/c12lyy/the_kdramas_of_the_first_half_of_2019_a_review/) **I** [Part 3](https://www.reddit.com/r/KDR...  \n",
       "1679  **Links to the other parts of the series:**\\n\\n[Part 1 ](https://www.reddit.com/r/KDRAMA/comments/c12lyy/the_kdramas_of_the_first_half_of_2019_a_review/)**I** [Part 2](https://www.reddit.com/r/KDR...  \n",
       "1693  I started watching Korean drama earlier this year and I wanted to write a little bit about my experience with it! First off - a bit of background. I’m a Scottish woman in my late twenties. I’m not...  \n",
       "1706  **Links to the other parts of the series:**\\n\\n[Part 1 ](https://www.reddit.com/r/KDRAMA/comments/c12lyy/the_kdramas_of_the_first_half_of_2019_a_review/)**I** [Part 2](https://www.reddit.com/r/KDR...  \n",
       "1530  # Episode 07 World-Level Ability\\n\\n[Previous Episode](https://www.reddit.com/r/anime/comments/ca4ux9/gundam_build_fighters_rewatch_episode_6_discussion/) | [Next Episode](https://www.reddit.com/r...  "
      ]
     },
     "execution_count": 19,
     "metadata": {},
     "output_type": "execute_result"
    }
   ],
   "source": [
    "sentiment_df.sort_values(by = 'compound', ascending = False).head()"
   ]
  },
  {
   "cell_type": "markdown",
   "metadata": {},
   "source": [
    "* Most Positive Posts"
   ]
  },
  {
   "cell_type": "code",
   "execution_count": 20,
   "metadata": {},
   "outputs": [
    {
     "data": {
      "text/html": [
       "<div>\n",
       "<style scoped>\n",
       "    .dataframe tbody tr th:only-of-type {\n",
       "        vertical-align: middle;\n",
       "    }\n",
       "\n",
       "    .dataframe tbody tr th {\n",
       "        vertical-align: top;\n",
       "    }\n",
       "\n",
       "    .dataframe thead th {\n",
       "        text-align: right;\n",
       "    }\n",
       "</style>\n",
       "<table border=\"1\" class=\"dataframe\">\n",
       "  <thead>\n",
       "    <tr style=\"text-align: right;\">\n",
       "      <th></th>\n",
       "      <th>compound</th>\n",
       "      <th>neg</th>\n",
       "      <th>neu</th>\n",
       "      <th>pos</th>\n",
       "      <th>subreddit</th>\n",
       "      <th>selftext</th>\n",
       "    </tr>\n",
       "  </thead>\n",
       "  <tbody>\n",
       "    <tr>\n",
       "      <th>733</th>\n",
       "      <td>0.8997</td>\n",
       "      <td>0.0</td>\n",
       "      <td>0.294</td>\n",
       "      <td>0.706</td>\n",
       "      <td>Anime</td>\n",
       "      <td>I need some romance anime’s to watch!! Please help lol</td>\n",
       "    </tr>\n",
       "    <tr>\n",
       "      <th>486</th>\n",
       "      <td>0.7351</td>\n",
       "      <td>0.0</td>\n",
       "      <td>0.326</td>\n",
       "      <td>0.674</td>\n",
       "      <td>Anime</td>\n",
       "      <td>Just asking for a friend :)</td>\n",
       "    </tr>\n",
       "    <tr>\n",
       "      <th>408</th>\n",
       "      <td>0.5719</td>\n",
       "      <td>0.0</td>\n",
       "      <td>0.390</td>\n",
       "      <td>0.610</td>\n",
       "      <td>Anime</td>\n",
       "      <td>A YouTuber recommended I don’t if good</td>\n",
       "    </tr>\n",
       "    <tr>\n",
       "      <th>128</th>\n",
       "      <td>0.4019</td>\n",
       "      <td>0.0</td>\n",
       "      <td>0.426</td>\n",
       "      <td>0.574</td>\n",
       "      <td>Anime</td>\n",
       "      <td>Or promising I guess.</td>\n",
       "    </tr>\n",
       "    <tr>\n",
       "      <th>1932</th>\n",
       "      <td>0.9062</td>\n",
       "      <td>0.0</td>\n",
       "      <td>0.469</td>\n",
       "      <td>0.531</td>\n",
       "      <td>KDrama</td>\n",
       "      <td>For me its my love from another star and romance is a bonus book</td>\n",
       "    </tr>\n",
       "  </tbody>\n",
       "</table>\n",
       "</div>"
      ],
      "text/plain": [
       "      compound  neg    neu    pos subreddit  \\\n",
       "733     0.8997  0.0  0.294  0.706     Anime   \n",
       "486     0.7351  0.0  0.326  0.674     Anime   \n",
       "408     0.5719  0.0  0.390  0.610     Anime   \n",
       "128     0.4019  0.0  0.426  0.574     Anime   \n",
       "1932    0.9062  0.0  0.469  0.531    KDrama   \n",
       "\n",
       "                                                              selftext  \n",
       "733             I need some romance anime’s to watch!! Please help lol  \n",
       "486                                        Just asking for a friend :)  \n",
       "408                             A YouTuber recommended I don’t if good  \n",
       "128                                              Or promising I guess.  \n",
       "1932  For me its my love from another star and romance is a bonus book  "
      ]
     },
     "execution_count": 20,
     "metadata": {},
     "output_type": "execute_result"
    }
   ],
   "source": [
    "sentiment_df.sort_values(by = 'pos', ascending = False).head()"
   ]
  },
  {
   "cell_type": "markdown",
   "metadata": {},
   "source": [
    "* Most Negative Posts"
   ]
  },
  {
   "cell_type": "code",
   "execution_count": 21,
   "metadata": {},
   "outputs": [
    {
     "data": {
      "text/html": [
       "<div>\n",
       "<style scoped>\n",
       "    .dataframe tbody tr th:only-of-type {\n",
       "        vertical-align: middle;\n",
       "    }\n",
       "\n",
       "    .dataframe tbody tr th {\n",
       "        vertical-align: top;\n",
       "    }\n",
       "\n",
       "    .dataframe thead th {\n",
       "        text-align: right;\n",
       "    }\n",
       "</style>\n",
       "<table border=\"1\" class=\"dataframe\">\n",
       "  <thead>\n",
       "    <tr style=\"text-align: right;\">\n",
       "      <th></th>\n",
       "      <th>compound</th>\n",
       "      <th>neg</th>\n",
       "      <th>neu</th>\n",
       "      <th>pos</th>\n",
       "      <th>subreddit</th>\n",
       "      <th>selftext</th>\n",
       "    </tr>\n",
       "  </thead>\n",
       "  <tbody>\n",
       "    <tr>\n",
       "      <th>932</th>\n",
       "      <td>-0.8402</td>\n",
       "      <td>0.457</td>\n",
       "      <td>0.435</td>\n",
       "      <td>0.109</td>\n",
       "      <td>Anime</td>\n",
       "      <td>Multiple reasons are possible: Like being annoying, being disgusting, being evil and so on</td>\n",
       "    </tr>\n",
       "    <tr>\n",
       "      <th>711</th>\n",
       "      <td>-0.6696</td>\n",
       "      <td>0.428</td>\n",
       "      <td>0.572</td>\n",
       "      <td>0.000</td>\n",
       "      <td>Anime</td>\n",
       "      <td>For what reason is He/she so bad ?</td>\n",
       "    </tr>\n",
       "    <tr>\n",
       "      <th>104</th>\n",
       "      <td>-0.6249</td>\n",
       "      <td>0.406</td>\n",
       "      <td>0.594</td>\n",
       "      <td>0.000</td>\n",
       "      <td>Anime</td>\n",
       "      <td>Anime with the worst fanbase and why</td>\n",
       "    </tr>\n",
       "    <tr>\n",
       "      <th>916</th>\n",
       "      <td>-0.8636</td>\n",
       "      <td>0.389</td>\n",
       "      <td>0.452</td>\n",
       "      <td>0.159</td>\n",
       "      <td>Anime</td>\n",
       "      <td>For me AKAME GA KILL and Happy Sugar Life made me angry and depressed. What are your depressing anime please don't spoil anything.</td>\n",
       "    </tr>\n",
       "    <tr>\n",
       "      <th>1199</th>\n",
       "      <td>-0.3400</td>\n",
       "      <td>0.386</td>\n",
       "      <td>0.351</td>\n",
       "      <td>0.263</td>\n",
       "      <td>Anime</td>\n",
       "      <td>just name your favorite anime villains</td>\n",
       "    </tr>\n",
       "  </tbody>\n",
       "</table>\n",
       "</div>"
      ],
      "text/plain": [
       "      compound    neg    neu    pos subreddit  \\\n",
       "932    -0.8402  0.457  0.435  0.109     Anime   \n",
       "711    -0.6696  0.428  0.572  0.000     Anime   \n",
       "104    -0.6249  0.406  0.594  0.000     Anime   \n",
       "916    -0.8636  0.389  0.452  0.159     Anime   \n",
       "1199   -0.3400  0.386  0.351  0.263     Anime   \n",
       "\n",
       "                                                                                                                                selftext  \n",
       "932                                           Multiple reasons are possible: Like being annoying, being disgusting, being evil and so on  \n",
       "711                                                                                                   For what reason is He/she so bad ?  \n",
       "104                                                                                                 Anime with the worst fanbase and why  \n",
       "916   For me AKAME GA KILL and Happy Sugar Life made me angry and depressed. What are your depressing anime please don't spoil anything.  \n",
       "1199                                                                                              just name your favorite anime villains  "
      ]
     },
     "execution_count": 21,
     "metadata": {},
     "output_type": "execute_result"
    }
   ],
   "source": [
    "sentiment_df.sort_values(by = 'neg', ascending = False).head()"
   ]
  },
  {
   "cell_type": "markdown",
   "metadata": {},
   "source": [
    "***\n",
    "### Figures"
   ]
  },
  {
   "cell_type": "code",
   "execution_count": 22,
   "metadata": {},
   "outputs": [
    {
     "data": {
      "text/plain": [
       "Anime     1618\n",
       "KDrama     500\n",
       "Name: subreddit, dtype: int64"
      ]
     },
     "execution_count": 22,
     "metadata": {},
     "output_type": "execute_result"
    }
   ],
   "source": [
    "sentiment_df['subreddit'].value_counts()"
   ]
  },
  {
   "cell_type": "markdown",
   "metadata": {},
   "source": [
    "* Average Compound Score by Subreddit"
   ]
  },
  {
   "cell_type": "code",
   "execution_count": 23,
   "metadata": {
    "scrolled": true
   },
   "outputs": [
    {
     "data": {
      "image/png": "[encoded data removed]",
      "text/plain": [
       "<Figure size 432x288 with 1 Axes>"
      ]
     },
     "metadata": {
      "needs_background": "light"
     },
     "output_type": "display_data"
    }
   ],
   "source": [
    "sentiment_df.groupby('subreddit').mean()[['compound']].plot(kind = 'barh')\n",
    "plt.title('Average Compound Text Score by Subreddit', fontsize = 15);\n",
    "plt.xlabel('Score', fontsize = 13)\n",
    "plt.ylabel('Subreddit', fontsize = 13);"
   ]
  },
  {
   "cell_type": "markdown",
   "metadata": {},
   "source": [
    ">From this figure it's clear that KDrama posts tend to have more positive sentiment that Anime posts. "
   ]
  },
  {
   "cell_type": "markdown",
   "metadata": {},
   "source": [
    "***\n",
    "* Average Positive and Negative Score by Subreddit"
   ]
  },
  {
   "cell_type": "code",
   "execution_count": 24,
   "metadata": {},
   "outputs": [
    {
     "data": {
      "image/png": "[encoded data removed]",
      "text/plain": [
       "<Figure size 432x288 with 1 Axes>"
      ]
     },
     "metadata": {
      "needs_background": "light"
     },
     "output_type": "display_data"
    }
   ],
   "source": [
    "sentiment_df.groupby('subreddit').mean()[['neg', 'pos']].plot(kind = 'barh')\n",
    "plt.title('Average Positive and Negative Text Scores by Subreddit', fontsize = 15)\n",
    "plt.ylabel('Subreddit', fontsize = 13)\n",
    "plt.xlabel('Score', fontsize = 13);"
   ]
  },
  {
   "cell_type": "markdown",
   "metadata": {},
   "source": [
    "> This figure makes it very clear that on average, positive posts were significantly more positive than negative posts were negatives for both subreddits."
   ]
  },
  {
   "cell_type": "markdown",
   "metadata": {},
   "source": [
    "***\n",
    "* Distribution of Compound Scores by Subreddit"
   ]
  },
  {
   "cell_type": "code",
   "execution_count": 25,
   "metadata": {
    "scrolled": false
   },
   "outputs": [
    {
     "data": {
      "image/png": "[encoded data removed]",
      "text/plain": [
       "<Figure size 360x360 with 1 Axes>"
      ]
     },
     "metadata": {
      "needs_background": "light"
     },
     "output_type": "display_data"
    }
   ],
   "source": [
    "sns.catplot(y = 'compound',\n",
    "            x = 'subreddit',\n",
    "            data = sentiment_df, \n",
    "            kind = 'violin')\n",
    "plt.title('Distribution of Compound Text Scores by Subreddit', fontsize = 15)\n",
    "plt.xlabel('Subreddit',fontsize = 13)\n",
    "plt.ylabel('Compound Score', fontsize = 13);"
   ]
  },
  {
   "cell_type": "markdown",
   "metadata": {},
   "source": [
    "> This figure shows that both posts have more positive than negative posts. \n",
    "It also shows that there are more neutral anime posts that KDrama posts. "
   ]
  },
  {
   "cell_type": "code",
   "execution_count": 26,
   "metadata": {},
   "outputs": [],
   "source": [
    "cv = CountVectorizer(stop_words = 'english', max_df=.9)\n",
    "tf = TfidfVectorizer(stop_words = 'english', max_df=.9)"
   ]
  },
  {
   "cell_type": "code",
   "execution_count": 27,
   "metadata": {},
   "outputs": [
    {
     "data": {
      "text/plain": [
       "CountVectorizer(analyzer='word', binary=False, decode_error='strict',\n",
       "        dtype=<class 'numpy.int64'>, encoding='utf-8', input='content',\n",
       "        lowercase=True, max_df=0.9, max_features=None, min_df=1,\n",
       "        ngram_range=(1, 1), preprocessor=None, stop_words='english',\n",
       "        strip_accents=None, token_pattern='(?u)\\\\b\\\\w\\\\w+\\\\b',\n",
       "        tokenizer=None, vocabulary=None)"
      ]
     },
     "execution_count": 27,
     "metadata": {},
     "output_type": "execute_result"
    }
   ],
   "source": [
    "#Fit dataframe to corpus\n",
    "cv.fit(sentiment_df['selftext'])"
   ]
  },
  {
   "cell_type": "code",
   "execution_count": 28,
   "metadata": {},
   "outputs": [
    {
     "data": {
      "text/plain": [
       "TfidfVectorizer(analyzer='word', binary=False, decode_error='strict',\n",
       "        dtype=<class 'numpy.float64'>, encoding='utf-8', input='content',\n",
       "        lowercase=True, max_df=0.9, max_features=None, min_df=1,\n",
       "        ngram_range=(1, 1), norm='l2', preprocessor=None, smooth_idf=True,\n",
       "        stop_words='english', strip_accents=None, sublinear_tf=False,\n",
       "        token_pattern='(?u)\\\\b\\\\w\\\\w+\\\\b', tokenizer=None, use_idf=True,\n",
       "        vocabulary=None)"
      ]
     },
     "execution_count": 28,
     "metadata": {},
     "output_type": "execute_result"
    }
   ],
   "source": [
    "# fir tfidf vectorizer to corpus\n",
    "tf.fit(sentiment_df['selftext'])"
   ]
  },
  {
   "cell_type": "code",
   "execution_count": 29,
   "metadata": {},
   "outputs": [],
   "source": [
    "#trasform text\n",
    "text_words_cv = cv.transform(sentiment_df['selftext'])"
   ]
  },
  {
   "cell_type": "code",
   "execution_count": 30,
   "metadata": {},
   "outputs": [
    {
     "data": {
      "text/html": [
       "<div>\n",
       "<style scoped>\n",
       "    .dataframe tbody tr th:only-of-type {\n",
       "        vertical-align: middle;\n",
       "    }\n",
       "\n",
       "    .dataframe tbody tr th {\n",
       "        vertical-align: top;\n",
       "    }\n",
       "\n",
       "    .dataframe thead th {\n",
       "        text-align: right;\n",
       "    }\n",
       "</style>\n",
       "<table border=\"1\" class=\"dataframe\">\n",
       "  <thead>\n",
       "    <tr style=\"text-align: right;\">\n",
       "      <th></th>\n",
       "      <th>00</th>\n",
       "      <th>000</th>\n",
       "      <th>0000380361</th>\n",
       "      <th>00021</th>\n",
       "      <th>001</th>\n",
       "      <th>0051</th>\n",
       "      <th>00518</th>\n",
       "      <th>0079</th>\n",
       "      <th>0080</th>\n",
       "      <th>0083</th>\n",
       "      <th>...</th>\n",
       "      <th>ｇｇｏ</th>\n",
       "      <th>ｋｎｏｗ</th>\n",
       "      <th>ｓａｏ</th>\n",
       "      <th>ｔｈｅ</th>\n",
       "      <th>ｖｉｂｅｓ</th>\n",
       "      <th>ﾟヮﾟ</th>\n",
       "      <th>𝐂𝐎𝐍𝐓𝐄𝐍𝐓</th>\n",
       "      <th>𝐋𝐄𝐀𝐃𝐄𝐑</th>\n",
       "      <th>𝐓𝐑𝐄𝐍𝐃</th>\n",
       "      <th>𝐭𝐯𝐍</th>\n",
       "    </tr>\n",
       "  </thead>\n",
       "  <tbody>\n",
       "    <tr>\n",
       "      <th>0</th>\n",
       "      <td>0</td>\n",
       "      <td>0</td>\n",
       "      <td>0</td>\n",
       "      <td>0</td>\n",
       "      <td>0</td>\n",
       "      <td>0</td>\n",
       "      <td>0</td>\n",
       "      <td>0</td>\n",
       "      <td>0</td>\n",
       "      <td>0</td>\n",
       "      <td>...</td>\n",
       "      <td>0</td>\n",
       "      <td>0</td>\n",
       "      <td>0</td>\n",
       "      <td>0</td>\n",
       "      <td>0</td>\n",
       "      <td>0</td>\n",
       "      <td>0</td>\n",
       "      <td>0</td>\n",
       "      <td>0</td>\n",
       "      <td>0</td>\n",
       "    </tr>\n",
       "    <tr>\n",
       "      <th>1</th>\n",
       "      <td>0</td>\n",
       "      <td>0</td>\n",
       "      <td>0</td>\n",
       "      <td>0</td>\n",
       "      <td>0</td>\n",
       "      <td>0</td>\n",
       "      <td>0</td>\n",
       "      <td>0</td>\n",
       "      <td>0</td>\n",
       "      <td>0</td>\n",
       "      <td>...</td>\n",
       "      <td>0</td>\n",
       "      <td>0</td>\n",
       "      <td>0</td>\n",
       "      <td>0</td>\n",
       "      <td>0</td>\n",
       "      <td>0</td>\n",
       "      <td>0</td>\n",
       "      <td>0</td>\n",
       "      <td>0</td>\n",
       "      <td>0</td>\n",
       "    </tr>\n",
       "    <tr>\n",
       "      <th>2</th>\n",
       "      <td>0</td>\n",
       "      <td>0</td>\n",
       "      <td>0</td>\n",
       "      <td>0</td>\n",
       "      <td>0</td>\n",
       "      <td>0</td>\n",
       "      <td>0</td>\n",
       "      <td>0</td>\n",
       "      <td>0</td>\n",
       "      <td>0</td>\n",
       "      <td>...</td>\n",
       "      <td>0</td>\n",
       "      <td>0</td>\n",
       "      <td>0</td>\n",
       "      <td>0</td>\n",
       "      <td>0</td>\n",
       "      <td>0</td>\n",
       "      <td>0</td>\n",
       "      <td>0</td>\n",
       "      <td>0</td>\n",
       "      <td>0</td>\n",
       "    </tr>\n",
       "    <tr>\n",
       "      <th>3</th>\n",
       "      <td>0</td>\n",
       "      <td>0</td>\n",
       "      <td>0</td>\n",
       "      <td>0</td>\n",
       "      <td>0</td>\n",
       "      <td>0</td>\n",
       "      <td>0</td>\n",
       "      <td>0</td>\n",
       "      <td>0</td>\n",
       "      <td>0</td>\n",
       "      <td>...</td>\n",
       "      <td>0</td>\n",
       "      <td>0</td>\n",
       "      <td>0</td>\n",
       "      <td>0</td>\n",
       "      <td>0</td>\n",
       "      <td>0</td>\n",
       "      <td>0</td>\n",
       "      <td>0</td>\n",
       "      <td>0</td>\n",
       "      <td>0</td>\n",
       "    </tr>\n",
       "    <tr>\n",
       "      <th>4</th>\n",
       "      <td>0</td>\n",
       "      <td>0</td>\n",
       "      <td>0</td>\n",
       "      <td>0</td>\n",
       "      <td>0</td>\n",
       "      <td>0</td>\n",
       "      <td>0</td>\n",
       "      <td>0</td>\n",
       "      <td>0</td>\n",
       "      <td>0</td>\n",
       "      <td>...</td>\n",
       "      <td>0</td>\n",
       "      <td>0</td>\n",
       "      <td>0</td>\n",
       "      <td>0</td>\n",
       "      <td>0</td>\n",
       "      <td>0</td>\n",
       "      <td>0</td>\n",
       "      <td>0</td>\n",
       "      <td>0</td>\n",
       "      <td>0</td>\n",
       "    </tr>\n",
       "  </tbody>\n",
       "</table>\n",
       "<p>5 rows × 17887 columns</p>\n",
       "</div>"
      ],
      "text/plain": [
       "   00  000  0000380361  00021  001  0051  00518  0079  0080  0083  ...  ｇｇｏ  \\\n",
       "0   0    0           0      0    0     0      0     0     0     0  ...    0   \n",
       "1   0    0           0      0    0     0      0     0     0     0  ...    0   \n",
       "2   0    0           0      0    0     0      0     0     0     0  ...    0   \n",
       "3   0    0           0      0    0     0      0     0     0     0  ...    0   \n",
       "4   0    0           0      0    0     0      0     0     0     0  ...    0   \n",
       "\n",
       "   ｋｎｏｗ  ｓａｏ  ｔｈｅ  ｖｉｂｅｓ  ﾟヮﾟ  𝐂𝐎𝐍𝐓𝐄𝐍𝐓  𝐋𝐄𝐀𝐃𝐄𝐑  𝐓𝐑𝐄𝐍𝐃  𝐭𝐯𝐍  \n",
       "0     0    0    0      0    0        0       0      0    0  \n",
       "1     0    0    0      0    0        0       0      0    0  \n",
       "2     0    0    0      0    0        0       0      0    0  \n",
       "3     0    0    0      0    0        0       0      0    0  \n",
       "4     0    0    0      0    0        0       0      0    0  \n",
       "\n",
       "[5 rows x 17887 columns]"
      ]
     },
     "execution_count": 30,
     "metadata": {},
     "output_type": "execute_result"
    }
   ],
   "source": [
    "# Convert text into a DataFrame\n",
    "text_df_cv = pd.DataFrame(text_words_cv.toarray(),\n",
    "                         columns = cv.get_feature_names())\n",
    "\n",
    "text_df_cv.head()"
   ]
  },
  {
   "cell_type": "code",
   "execution_count": 38,
   "metadata": {},
   "outputs": [],
   "source": [
    "top_10_cv =text_df_cv.sum().sort_values(ascending = False).head(10)"
   ]
  },
  {
   "cell_type": "markdown",
   "metadata": {},
   "source": [
    "* Top 10 CountVectorized Words"
   ]
  },
  {
   "cell_type": "code",
   "execution_count": 39,
   "metadata": {},
   "outputs": [
    {
     "data": {
      "text/plain": [
       "(array([0, 1, 2, 3, 4, 5, 6, 7, 8, 9]), <a list of 10 Text yticklabel objects>)"
      ]
     },
     "execution_count": 39,
     "metadata": {},
     "output_type": "execute_result"
    },
    {
     "data": {
      "image/png": "[encoded data removed]",
      "text/plain": [
       "<Figure size 864x576 with 1 Axes>"
      ]
     },
     "metadata": {
      "needs_background": "light"
     },
     "output_type": "display_data"
    }
   ],
   "source": [
    "plt.figure(figsize=(12,8))\n",
    "top_10_cv.plot(kind = 'barh')\n",
    "\n",
    "plt.title('Top 10 CountVectorized Words in Subreddit Text', fontsize = 15)\n",
    "plt.xlabel('Count', fontsize = 13);\n",
    "plt.yticks(fontsize = 12)"
   ]
  },
  {
   "cell_type": "code",
   "execution_count": 33,
   "metadata": {},
   "outputs": [],
   "source": [
    "#trasform text\n",
    "text_words_tf = tf.transform(sentiment_df['selftext'])"
   ]
  },
  {
   "cell_type": "code",
   "execution_count": 34,
   "metadata": {},
   "outputs": [
    {
     "data": {
      "text/html": [
       "<div>\n",
       "<style scoped>\n",
       "    .dataframe tbody tr th:only-of-type {\n",
       "        vertical-align: middle;\n",
       "    }\n",
       "\n",
       "    .dataframe tbody tr th {\n",
       "        vertical-align: top;\n",
       "    }\n",
       "\n",
       "    .dataframe thead th {\n",
       "        text-align: right;\n",
       "    }\n",
       "</style>\n",
       "<table border=\"1\" class=\"dataframe\">\n",
       "  <thead>\n",
       "    <tr style=\"text-align: right;\">\n",
       "      <th></th>\n",
       "      <th>00</th>\n",
       "      <th>000</th>\n",
       "      <th>0000380361</th>\n",
       "      <th>00021</th>\n",
       "      <th>001</th>\n",
       "      <th>0051</th>\n",
       "      <th>00518</th>\n",
       "      <th>0079</th>\n",
       "      <th>0080</th>\n",
       "      <th>0083</th>\n",
       "      <th>...</th>\n",
       "      <th>ｇｇｏ</th>\n",
       "      <th>ｋｎｏｗ</th>\n",
       "      <th>ｓａｏ</th>\n",
       "      <th>ｔｈｅ</th>\n",
       "      <th>ｖｉｂｅｓ</th>\n",
       "      <th>ﾟヮﾟ</th>\n",
       "      <th>𝐂𝐎𝐍𝐓𝐄𝐍𝐓</th>\n",
       "      <th>𝐋𝐄𝐀𝐃𝐄𝐑</th>\n",
       "      <th>𝐓𝐑𝐄𝐍𝐃</th>\n",
       "      <th>𝐭𝐯𝐍</th>\n",
       "    </tr>\n",
       "  </thead>\n",
       "  <tbody>\n",
       "    <tr>\n",
       "      <th>0</th>\n",
       "      <td>0.0</td>\n",
       "      <td>0.0</td>\n",
       "      <td>0.0</td>\n",
       "      <td>0.0</td>\n",
       "      <td>0.0</td>\n",
       "      <td>0.0</td>\n",
       "      <td>0.0</td>\n",
       "      <td>0.0</td>\n",
       "      <td>0.0</td>\n",
       "      <td>0.0</td>\n",
       "      <td>...</td>\n",
       "      <td>0.0</td>\n",
       "      <td>0.0</td>\n",
       "      <td>0.0</td>\n",
       "      <td>0.0</td>\n",
       "      <td>0.0</td>\n",
       "      <td>0.0</td>\n",
       "      <td>0.0</td>\n",
       "      <td>0.0</td>\n",
       "      <td>0.0</td>\n",
       "      <td>0.0</td>\n",
       "    </tr>\n",
       "    <tr>\n",
       "      <th>1</th>\n",
       "      <td>0.0</td>\n",
       "      <td>0.0</td>\n",
       "      <td>0.0</td>\n",
       "      <td>0.0</td>\n",
       "      <td>0.0</td>\n",
       "      <td>0.0</td>\n",
       "      <td>0.0</td>\n",
       "      <td>0.0</td>\n",
       "      <td>0.0</td>\n",
       "      <td>0.0</td>\n",
       "      <td>...</td>\n",
       "      <td>0.0</td>\n",
       "      <td>0.0</td>\n",
       "      <td>0.0</td>\n",
       "      <td>0.0</td>\n",
       "      <td>0.0</td>\n",
       "      <td>0.0</td>\n",
       "      <td>0.0</td>\n",
       "      <td>0.0</td>\n",
       "      <td>0.0</td>\n",
       "      <td>0.0</td>\n",
       "    </tr>\n",
       "    <tr>\n",
       "      <th>2</th>\n",
       "      <td>0.0</td>\n",
       "      <td>0.0</td>\n",
       "      <td>0.0</td>\n",
       "      <td>0.0</td>\n",
       "      <td>0.0</td>\n",
       "      <td>0.0</td>\n",
       "      <td>0.0</td>\n",
       "      <td>0.0</td>\n",
       "      <td>0.0</td>\n",
       "      <td>0.0</td>\n",
       "      <td>...</td>\n",
       "      <td>0.0</td>\n",
       "      <td>0.0</td>\n",
       "      <td>0.0</td>\n",
       "      <td>0.0</td>\n",
       "      <td>0.0</td>\n",
       "      <td>0.0</td>\n",
       "      <td>0.0</td>\n",
       "      <td>0.0</td>\n",
       "      <td>0.0</td>\n",
       "      <td>0.0</td>\n",
       "    </tr>\n",
       "    <tr>\n",
       "      <th>3</th>\n",
       "      <td>0.0</td>\n",
       "      <td>0.0</td>\n",
       "      <td>0.0</td>\n",
       "      <td>0.0</td>\n",
       "      <td>0.0</td>\n",
       "      <td>0.0</td>\n",
       "      <td>0.0</td>\n",
       "      <td>0.0</td>\n",
       "      <td>0.0</td>\n",
       "      <td>0.0</td>\n",
       "      <td>...</td>\n",
       "      <td>0.0</td>\n",
       "      <td>0.0</td>\n",
       "      <td>0.0</td>\n",
       "      <td>0.0</td>\n",
       "      <td>0.0</td>\n",
       "      <td>0.0</td>\n",
       "      <td>0.0</td>\n",
       "      <td>0.0</td>\n",
       "      <td>0.0</td>\n",
       "      <td>0.0</td>\n",
       "    </tr>\n",
       "    <tr>\n",
       "      <th>4</th>\n",
       "      <td>0.0</td>\n",
       "      <td>0.0</td>\n",
       "      <td>0.0</td>\n",
       "      <td>0.0</td>\n",
       "      <td>0.0</td>\n",
       "      <td>0.0</td>\n",
       "      <td>0.0</td>\n",
       "      <td>0.0</td>\n",
       "      <td>0.0</td>\n",
       "      <td>0.0</td>\n",
       "      <td>...</td>\n",
       "      <td>0.0</td>\n",
       "      <td>0.0</td>\n",
       "      <td>0.0</td>\n",
       "      <td>0.0</td>\n",
       "      <td>0.0</td>\n",
       "      <td>0.0</td>\n",
       "      <td>0.0</td>\n",
       "      <td>0.0</td>\n",
       "      <td>0.0</td>\n",
       "      <td>0.0</td>\n",
       "    </tr>\n",
       "  </tbody>\n",
       "</table>\n",
       "<p>5 rows × 17887 columns</p>\n",
       "</div>"
      ],
      "text/plain": [
       "    00  000  0000380361  00021  001  0051  00518  0079  0080  0083  ...  ｇｇｏ  \\\n",
       "0  0.0  0.0         0.0    0.0  0.0   0.0    0.0   0.0   0.0   0.0  ...  0.0   \n",
       "1  0.0  0.0         0.0    0.0  0.0   0.0    0.0   0.0   0.0   0.0  ...  0.0   \n",
       "2  0.0  0.0         0.0    0.0  0.0   0.0    0.0   0.0   0.0   0.0  ...  0.0   \n",
       "3  0.0  0.0         0.0    0.0  0.0   0.0    0.0   0.0   0.0   0.0  ...  0.0   \n",
       "4  0.0  0.0         0.0    0.0  0.0   0.0    0.0   0.0   0.0   0.0  ...  0.0   \n",
       "\n",
       "   ｋｎｏｗ  ｓａｏ  ｔｈｅ  ｖｉｂｅｓ  ﾟヮﾟ  𝐂𝐎𝐍𝐓𝐄𝐍𝐓  𝐋𝐄𝐀𝐃𝐄𝐑  𝐓𝐑𝐄𝐍𝐃  𝐭𝐯𝐍  \n",
       "0   0.0  0.0  0.0    0.0  0.0      0.0     0.0    0.0  0.0  \n",
       "1   0.0  0.0  0.0    0.0  0.0      0.0     0.0    0.0  0.0  \n",
       "2   0.0  0.0  0.0    0.0  0.0      0.0     0.0    0.0  0.0  \n",
       "3   0.0  0.0  0.0    0.0  0.0      0.0     0.0    0.0  0.0  \n",
       "4   0.0  0.0  0.0    0.0  0.0      0.0     0.0    0.0  0.0  \n",
       "\n",
       "[5 rows x 17887 columns]"
      ]
     },
     "execution_count": 34,
     "metadata": {},
     "output_type": "execute_result"
    }
   ],
   "source": [
    "# Convert text into a DataFrame\n",
    "text_df_tf = pd.DataFrame(text_words_tf.toarray(),\n",
    "                         columns = tf.get_feature_names())\n",
    "\n",
    "text_df_tf.head()"
   ]
  },
  {
   "cell_type": "code",
   "execution_count": 42,
   "metadata": {},
   "outputs": [],
   "source": [
    "#Sorting columns of tfidfvectorized words \n",
    "text_df_tf.sum().sort_values(ascending = False)\n",
    "top_10_tf = text_df_tf.sum().sort_values(ascending = False).head(10)"
   ]
  },
  {
   "cell_type": "markdown",
   "metadata": {},
   "source": [
    "* Top 10 TFIDFVectorized Words"
   ]
  },
  {
   "cell_type": "code",
   "execution_count": 43,
   "metadata": {},
   "outputs": [
    {
     "data": {
      "image/png": "[encoded data removed]",
      "text/plain": [
       "<Figure size 864x576 with 1 Axes>"
      ]
     },
     "metadata": {
      "needs_background": "light"
     },
     "output_type": "display_data"
    }
   ],
   "source": [
    "plt.figure(figsize=(12,8))\n",
    "top_10_tf.plot(kind = 'barh')\n",
    "plt.title('Top 10 TFIDFVectorized Words in Subreddit Title', fontsize = 15)\n",
    "plt.xlabel('Score, fontsize = 13);"
   ]
  },
  {
   "cell_type": "code",
   "execution_count": null,
   "metadata": {},
   "outputs": [],
   "source": []
  }
 ],
 "metadata": {
  "kernelspec": {
   "display_name": "Python 3",
   "language": "python",
   "name": "python3"
  },
  "language_info": {
   "codemirror_mode": {
    "name": "ipython",
    "version": 3
   },
   "file_extension": ".py",
   "mimetype": "text/x-python",
   "name": "python",
   "nbconvert_exporter": "python",
   "pygments_lexer": "ipython3",
   "version": "3.7.3"
  }
 },
 "nbformat": 4,
 "nbformat_minor": 2
}
