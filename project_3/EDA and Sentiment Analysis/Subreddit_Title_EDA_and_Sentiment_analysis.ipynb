{
 "cells": [
  {
   "cell_type": "code",
   "execution_count": 1,
   "metadata": {},
   "outputs": [],
   "source": [
    "import os\n",
    "import pandas as pd\n",
    "from sklearn.feature_extraction import stop_words\n",
    "from sklearn.feature_extraction.text import CountVectorizer, TfidfVectorizer\n",
    "import matplotlib.pyplot as plt\n",
    "import pandas as pd\n",
    "import seaborn as sns\n",
    "from nltk.sentiment.vader import SentimentIntensityAnalyzer"
   ]
  },
  {
   "cell_type": "code",
   "execution_count": 2,
   "metadata": {},
   "outputs": [
    {
     "name": "stdout",
     "output_type": "stream",
     "text": [
      "Lets try and pull data from the files in this folder\n",
      "Huzzah! Mission Complete\n"
     ]
    },
    {
     "name": "stderr",
     "output_type": "stream",
     "text": [
      "C:\\Users\\kwama\\Anaconda3\\lib\\site-packages\\ipykernel_launcher.py:15: FutureWarning: Sorting because non-concatenation axis is not aligned. A future version\n",
      "of pandas will change to not sort by default.\n",
      "\n",
      "To accept the future behavior, pass 'sort=False'.\n",
      "\n",
      "To retain the current behavior and silence the warning, pass 'sort=True'.\n",
      "\n",
      "  from ipykernel import kernelapp as app\n"
     ]
    }
   ],
   "source": [
    "# easier to see full title with a bigger maxwidth:\n",
    "pd.options.display.max_colwidth = 200\n",
    "\n",
    "list_of_dfs = []\n",
    "\n",
    "try: \n",
    "    print('Lets try and pull data from the files in this folder')\n",
    "    for file in os.listdir('../data')[1:]:\n",
    "        d = pd.read_csv('../data/' + file)\n",
    "        list_of_dfs.append(d)\n",
    "    print('Huzzah! Mission Complete')\n",
    "except:\n",
    "    print(\"Welp, that didn't work\")\n",
    "\n",
    "df = pd.concat(list_of_dfs, ignore_index=True).drop_duplicates(subset = 'title')"
   ]
  },
  {
   "cell_type": "code",
   "execution_count": 3,
   "metadata": {},
   "outputs": [
    {
     "data": {
      "text/plain": [
       "(2974, 104)"
      ]
     },
     "execution_count": 3,
     "metadata": {},
     "output_type": "execute_result"
    }
   ],
   "source": [
    "df.shape"
   ]
  },
  {
   "cell_type": "code",
   "execution_count": 4,
   "metadata": {},
   "outputs": [
    {
     "data": {
      "text/plain": [
       "Index(['all_awardings', 'allow_live_comments', 'approved_at_utc',\n",
       "       'approved_by', 'archived', 'author', 'author_cakeday',\n",
       "       'author_flair_background_color', 'author_flair_css_class',\n",
       "       'author_flair_richtext',\n",
       "       ...\n",
       "       'thumbnail_width', 'title', 'total_awards_received', 'ups', 'url',\n",
       "       'user_reports', 'view_count', 'visited', 'whitelist_status', 'wls'],\n",
       "      dtype='object', length=104)"
      ]
     },
     "execution_count": 4,
     "metadata": {},
     "output_type": "execute_result"
    }
   ],
   "source": [
    "df.columns"
   ]
  },
  {
   "cell_type": "code",
   "execution_count": 5,
   "metadata": {},
   "outputs": [
    {
     "data": {
      "text/html": [
       "<div>\n",
       "<style scoped>\n",
       "    .dataframe tbody tr th:only-of-type {\n",
       "        vertical-align: middle;\n",
       "    }\n",
       "\n",
       "    .dataframe tbody tr th {\n",
       "        vertical-align: top;\n",
       "    }\n",
       "\n",
       "    .dataframe thead th {\n",
       "        text-align: right;\n",
       "    }\n",
       "</style>\n",
       "<table border=\"1\" class=\"dataframe\">\n",
       "  <thead>\n",
       "    <tr style=\"text-align: right;\">\n",
       "      <th></th>\n",
       "      <th>all_awardings</th>\n",
       "      <th>allow_live_comments</th>\n",
       "      <th>approved_at_utc</th>\n",
       "      <th>approved_by</th>\n",
       "      <th>archived</th>\n",
       "      <th>author</th>\n",
       "      <th>author_cakeday</th>\n",
       "      <th>author_flair_background_color</th>\n",
       "      <th>author_flair_css_class</th>\n",
       "      <th>author_flair_richtext</th>\n",
       "      <th>...</th>\n",
       "      <th>thumbnail_width</th>\n",
       "      <th>title</th>\n",
       "      <th>total_awards_received</th>\n",
       "      <th>ups</th>\n",
       "      <th>url</th>\n",
       "      <th>user_reports</th>\n",
       "      <th>view_count</th>\n",
       "      <th>visited</th>\n",
       "      <th>whitelist_status</th>\n",
       "      <th>wls</th>\n",
       "    </tr>\n",
       "  </thead>\n",
       "  <tbody>\n",
       "    <tr>\n",
       "      <th>0</th>\n",
       "      <td>[]</td>\n",
       "      <td>False</td>\n",
       "      <td>NaN</td>\n",
       "      <td>NaN</td>\n",
       "      <td>False</td>\n",
       "      <td>pittman66</td>\n",
       "      <td>NaN</td>\n",
       "      <td>NaN</td>\n",
       "      <td>MAL</td>\n",
       "      <td>[]</td>\n",
       "      <td>...</td>\n",
       "      <td>NaN</td>\n",
       "      <td>Wiki Overhaul Month, Week 2: Watch Order Wiki</td>\n",
       "      <td>0</td>\n",
       "      <td>67</td>\n",
       "      <td>https://www.reddit.com/r/anime/comments/c822ra/wiki_overhaul_month_week_2_watch_order_wiki/</td>\n",
       "      <td>[]</td>\n",
       "      <td>NaN</td>\n",
       "      <td>False</td>\n",
       "      <td>all_ads</td>\n",
       "      <td>6</td>\n",
       "    </tr>\n",
       "    <tr>\n",
       "      <th>1</th>\n",
       "      <td>[]</td>\n",
       "      <td>False</td>\n",
       "      <td>NaN</td>\n",
       "      <td>NaN</td>\n",
       "      <td>False</td>\n",
       "      <td>AnimeMod</td>\n",
       "      <td>NaN</td>\n",
       "      <td>NaN</td>\n",
       "      <td>NaN</td>\n",
       "      <td>[]</td>\n",
       "      <td>...</td>\n",
       "      <td>NaN</td>\n",
       "      <td>Recommendation Tuesdays Megathread - Week of July 02, 2019</td>\n",
       "      <td>0</td>\n",
       "      <td>61</td>\n",
       "      <td>https://www.reddit.com/r/anime/comments/c823rj/recommendation_tuesdays_megathread_week_of_july/</td>\n",
       "      <td>[]</td>\n",
       "      <td>NaN</td>\n",
       "      <td>False</td>\n",
       "      <td>all_ads</td>\n",
       "      <td>6</td>\n",
       "    </tr>\n",
       "    <tr>\n",
       "      <th>2</th>\n",
       "      <td>[]</td>\n",
       "      <td>True</td>\n",
       "      <td>NaN</td>\n",
       "      <td>NaN</td>\n",
       "      <td>False</td>\n",
       "      <td>MinecrafterPH</td>\n",
       "      <td>NaN</td>\n",
       "      <td>#2e51a2</td>\n",
       "      <td>MAL</td>\n",
       "      <td>[]</td>\n",
       "      <td>...</td>\n",
       "      <td>NaN</td>\n",
       "      <td>My Hero Academia Season 4 is reportedly listed for 25 episodes</td>\n",
       "      <td>0</td>\n",
       "      <td>5778</td>\n",
       "      <td>https://www.reddit.com/r/anime/comments/c8o432/my_hero_academia_season_4_is_reportedly_listed/</td>\n",
       "      <td>[]</td>\n",
       "      <td>NaN</td>\n",
       "      <td>False</td>\n",
       "      <td>all_ads</td>\n",
       "      <td>6</td>\n",
       "    </tr>\n",
       "    <tr>\n",
       "      <th>3</th>\n",
       "      <td>[]</td>\n",
       "      <td>True</td>\n",
       "      <td>NaN</td>\n",
       "      <td>NaN</td>\n",
       "      <td>False</td>\n",
       "      <td>AutoLovepon</td>\n",
       "      <td>NaN</td>\n",
       "      <td>NaN</td>\n",
       "      <td>NaN</td>\n",
       "      <td>[]</td>\n",
       "      <td>...</td>\n",
       "      <td>NaN</td>\n",
       "      <td>Dumbbell Nan Kilo Moteru? - Episode 1 discussion</td>\n",
       "      <td>0</td>\n",
       "      <td>1091</td>\n",
       "      <td>https://www.reddit.com/r/anime/comments/c8osvp/dumbbell_nan_kilo_moteru_episode_1_discussion/</td>\n",
       "      <td>[]</td>\n",
       "      <td>NaN</td>\n",
       "      <td>False</td>\n",
       "      <td>all_ads</td>\n",
       "      <td>6</td>\n",
       "    </tr>\n",
       "    <tr>\n",
       "      <th>4</th>\n",
       "      <td>[]</td>\n",
       "      <td>False</td>\n",
       "      <td>NaN</td>\n",
       "      <td>NaN</td>\n",
       "      <td>False</td>\n",
       "      <td>ShaKing807</td>\n",
       "      <td>NaN</td>\n",
       "      <td>#2e51a2</td>\n",
       "      <td>MAL</td>\n",
       "      <td>[]</td>\n",
       "      <td>...</td>\n",
       "      <td>NaN</td>\n",
       "      <td>Best Girl 6: Starting Salt in Another Contest! Round 5 Bracket C!</td>\n",
       "      <td>0</td>\n",
       "      <td>279</td>\n",
       "      <td>https://www.reddit.com/r/anime/comments/c8u89t/best_girl_6_starting_salt_in_another_contest/</td>\n",
       "      <td>[]</td>\n",
       "      <td>NaN</td>\n",
       "      <td>False</td>\n",
       "      <td>all_ads</td>\n",
       "      <td>6</td>\n",
       "    </tr>\n",
       "  </tbody>\n",
       "</table>\n",
       "<p>5 rows × 104 columns</p>\n",
       "</div>"
      ],
      "text/plain": [
       "  all_awardings  allow_live_comments  approved_at_utc  approved_by  archived  \\\n",
       "0            []                False              NaN          NaN     False   \n",
       "1            []                False              NaN          NaN     False   \n",
       "2            []                 True              NaN          NaN     False   \n",
       "3            []                 True              NaN          NaN     False   \n",
       "4            []                False              NaN          NaN     False   \n",
       "\n",
       "          author author_cakeday author_flair_background_color  \\\n",
       "0      pittman66            NaN                           NaN   \n",
       "1       AnimeMod            NaN                           NaN   \n",
       "2  MinecrafterPH            NaN                       #2e51a2   \n",
       "3    AutoLovepon            NaN                           NaN   \n",
       "4     ShaKing807            NaN                       #2e51a2   \n",
       "\n",
       "  author_flair_css_class author_flair_richtext  ... thumbnail_width  \\\n",
       "0                    MAL                    []  ...             NaN   \n",
       "1                    NaN                    []  ...             NaN   \n",
       "2                    MAL                    []  ...             NaN   \n",
       "3                    NaN                    []  ...             NaN   \n",
       "4                    MAL                    []  ...             NaN   \n",
       "\n",
       "                                                               title  \\\n",
       "0                      Wiki Overhaul Month, Week 2: Watch Order Wiki   \n",
       "1         Recommendation Tuesdays Megathread - Week of July 02, 2019   \n",
       "2     My Hero Academia Season 4 is reportedly listed for 25 episodes   \n",
       "3                   Dumbbell Nan Kilo Moteru? - Episode 1 discussion   \n",
       "4  Best Girl 6: Starting Salt in Another Contest! Round 5 Bracket C!   \n",
       "\n",
       "  total_awards_received   ups  \\\n",
       "0                     0    67   \n",
       "1                     0    61   \n",
       "2                     0  5778   \n",
       "3                     0  1091   \n",
       "4                     0   279   \n",
       "\n",
       "                                                                                               url  \\\n",
       "0      https://www.reddit.com/r/anime/comments/c822ra/wiki_overhaul_month_week_2_watch_order_wiki/   \n",
       "1  https://www.reddit.com/r/anime/comments/c823rj/recommendation_tuesdays_megathread_week_of_july/   \n",
       "2   https://www.reddit.com/r/anime/comments/c8o432/my_hero_academia_season_4_is_reportedly_listed/   \n",
       "3    https://www.reddit.com/r/anime/comments/c8osvp/dumbbell_nan_kilo_moteru_episode_1_discussion/   \n",
       "4     https://www.reddit.com/r/anime/comments/c8u89t/best_girl_6_starting_salt_in_another_contest/   \n",
       "\n",
       "  user_reports  view_count  visited  whitelist_status  wls  \n",
       "0           []         NaN    False           all_ads    6  \n",
       "1           []         NaN    False           all_ads    6  \n",
       "2           []         NaN    False           all_ads    6  \n",
       "3           []         NaN    False           all_ads    6  \n",
       "4           []         NaN    False           all_ads    6  \n",
       "\n",
       "[5 rows x 104 columns]"
      ]
     },
     "execution_count": 5,
     "metadata": {},
     "output_type": "execute_result"
    }
   ],
   "source": [
    "df.head()"
   ]
  },
  {
   "cell_type": "code",
   "execution_count": 6,
   "metadata": {},
   "outputs": [
    {
     "data": {
      "text/plain": [
       "anime     2155\n",
       "KDRAMA     819\n",
       "Name: subreddit, dtype: int64"
      ]
     },
     "execution_count": 6,
     "metadata": {},
     "output_type": "execute_result"
    }
   ],
   "source": [
    "df['subreddit'].value_counts()"
   ]
  },
  {
   "cell_type": "markdown",
   "metadata": {},
   "source": [
    ">The unbalanced classes may pose a problem for my model because it may struggle with assigning new data to the kdrama class. "
   ]
  },
  {
   "cell_type": "code",
   "execution_count": 7,
   "metadata": {},
   "outputs": [
    {
     "data": {
      "text/html": [
       "<div>\n",
       "<style scoped>\n",
       "    .dataframe tbody tr th:only-of-type {\n",
       "        vertical-align: middle;\n",
       "    }\n",
       "\n",
       "    .dataframe tbody tr th {\n",
       "        vertical-align: top;\n",
       "    }\n",
       "\n",
       "    .dataframe thead th {\n",
       "        text-align: right;\n",
       "    }\n",
       "</style>\n",
       "<table border=\"1\" class=\"dataframe\">\n",
       "  <thead>\n",
       "    <tr style=\"text-align: right;\">\n",
       "      <th></th>\n",
       "      <th>subreddit</th>\n",
       "      <th>title</th>\n",
       "    </tr>\n",
       "  </thead>\n",
       "  <tbody>\n",
       "    <tr>\n",
       "      <th>0</th>\n",
       "      <td>anime</td>\n",
       "      <td>Wiki Overhaul Month, Week 2: Watch Order Wiki</td>\n",
       "    </tr>\n",
       "    <tr>\n",
       "      <th>1</th>\n",
       "      <td>anime</td>\n",
       "      <td>Recommendation Tuesdays Megathread - Week of July 02, 2019</td>\n",
       "    </tr>\n",
       "    <tr>\n",
       "      <th>2</th>\n",
       "      <td>anime</td>\n",
       "      <td>My Hero Academia Season 4 is reportedly listed for 25 episodes</td>\n",
       "    </tr>\n",
       "    <tr>\n",
       "      <th>3</th>\n",
       "      <td>anime</td>\n",
       "      <td>Dumbbell Nan Kilo Moteru? - Episode 1 discussion</td>\n",
       "    </tr>\n",
       "    <tr>\n",
       "      <th>4</th>\n",
       "      <td>anime</td>\n",
       "      <td>Best Girl 6: Starting Salt in Another Contest! Round 5 Bracket C!</td>\n",
       "    </tr>\n",
       "  </tbody>\n",
       "</table>\n",
       "</div>"
      ],
      "text/plain": [
       "  subreddit                                                              title\n",
       "0     anime                      Wiki Overhaul Month, Week 2: Watch Order Wiki\n",
       "1     anime         Recommendation Tuesdays Megathread - Week of July 02, 2019\n",
       "2     anime     My Hero Academia Season 4 is reportedly listed for 25 episodes\n",
       "3     anime                   Dumbbell Nan Kilo Moteru? - Episode 1 discussion\n",
       "4     anime  Best Girl 6: Starting Salt in Another Contest! Round 5 Bracket C!"
      ]
     },
     "execution_count": 7,
     "metadata": {},
     "output_type": "execute_result"
    }
   ],
   "source": [
    "df = df[['subreddit', 'title']]\n",
    "df.head()"
   ]
  },
  {
   "cell_type": "code",
   "execution_count": 8,
   "metadata": {},
   "outputs": [
    {
     "data": {
      "text/plain": [
       "0"
      ]
     },
     "execution_count": 8,
     "metadata": {},
     "output_type": "execute_result"
    }
   ],
   "source": [
    "df.isnull().sum().sum()"
   ]
  },
  {
   "cell_type": "code",
   "execution_count": 9,
   "metadata": {},
   "outputs": [],
   "source": [
    "### Making post title and titles lists for Sentiment Analysis"
   ]
  },
  {
   "cell_type": "code",
   "execution_count": 10,
   "metadata": {},
   "outputs": [],
   "source": [
    "subreddit_title = list(df['title'])"
   ]
  },
  {
   "cell_type": "markdown",
   "metadata": {},
   "source": [
    "***\n",
    "# Sentiment Analysis"
   ]
  },
  {
   "cell_type": "code",
   "execution_count": 11,
   "metadata": {},
   "outputs": [],
   "source": [
    "#Instantiate Sentiment Intensity Analyzer\n",
    "sia = SentimentIntensityAnalyzer()"
   ]
  },
  {
   "cell_type": "markdown",
   "metadata": {},
   "source": [
    "The Sentiment Intensity Analyzer(sia) accepts a string and returns a dictionary of scores on the positivity, negativity, neutrality, and total sentiment attached with that string. \n",
    "> * The sum of neg, pos, and neu scores adds to 1\n",
    "* neg, pos, and neu scores are on a 0 - 1 scale\n",
    "* The compound score is on a -1 to 1 scale, where higher negative number are associated with high negativity\n",
    "\n",
    "This analyzer has been tested on social media data, so it is adept at handling reddit posts, twitterings (or whatever they're called), etc. Some examples are below"
   ]
  },
  {
   "cell_type": "code",
   "execution_count": 12,
   "metadata": {},
   "outputs": [
    {
     "name": "stdout",
     "output_type": "stream",
     "text": [
      "Wiki Overhaul Month, Week 2: Watch Order Wiki\n"
     ]
    }
   ],
   "source": [
    "print(subreddit_title[0])"
   ]
  },
  {
   "cell_type": "code",
   "execution_count": 13,
   "metadata": {},
   "outputs": [
    {
     "data": {
      "text/plain": [
       "{'neg': 0.0, 'neu': 1.0, 'pos': 0.0, 'compound': 0.0}"
      ]
     },
     "execution_count": 13,
     "metadata": {},
     "output_type": "execute_result"
    }
   ],
   "source": [
    "sia.polarity_scores(subreddit_title[0])"
   ]
  },
  {
   "cell_type": "markdown",
   "metadata": {},
   "source": [
    "Here we have a subbreddit title that's completely neutral, and after reading it, you would probably agree with the Sentiment Analyzer."
   ]
  },
  {
   "cell_type": "code",
   "execution_count": 14,
   "metadata": {},
   "outputs": [],
   "source": [
    "posts = [sia.polarity_scores(each) for each in subreddit_title]"
   ]
  },
  {
   "cell_type": "code",
   "execution_count": 15,
   "metadata": {},
   "outputs": [
    {
     "data": {
      "text/html": [
       "<div>\n",
       "<style scoped>\n",
       "    .dataframe tbody tr th:only-of-type {\n",
       "        vertical-align: middle;\n",
       "    }\n",
       "\n",
       "    .dataframe tbody tr th {\n",
       "        vertical-align: top;\n",
       "    }\n",
       "\n",
       "    .dataframe thead th {\n",
       "        text-align: right;\n",
       "    }\n",
       "</style>\n",
       "<table border=\"1\" class=\"dataframe\">\n",
       "  <thead>\n",
       "    <tr style=\"text-align: right;\">\n",
       "      <th></th>\n",
       "      <th>compound</th>\n",
       "      <th>neg</th>\n",
       "      <th>neu</th>\n",
       "      <th>pos</th>\n",
       "    </tr>\n",
       "  </thead>\n",
       "  <tbody>\n",
       "    <tr>\n",
       "      <th>0</th>\n",
       "      <td>0.0000</td>\n",
       "      <td>0.000</td>\n",
       "      <td>1.000</td>\n",
       "      <td>0.000</td>\n",
       "    </tr>\n",
       "    <tr>\n",
       "      <th>1</th>\n",
       "      <td>0.0000</td>\n",
       "      <td>0.000</td>\n",
       "      <td>1.000</td>\n",
       "      <td>0.000</td>\n",
       "    </tr>\n",
       "    <tr>\n",
       "      <th>2</th>\n",
       "      <td>0.5574</td>\n",
       "      <td>0.000</td>\n",
       "      <td>0.714</td>\n",
       "      <td>0.286</td>\n",
       "    </tr>\n",
       "    <tr>\n",
       "      <th>3</th>\n",
       "      <td>-0.2023</td>\n",
       "      <td>0.265</td>\n",
       "      <td>0.735</td>\n",
       "      <td>0.000</td>\n",
       "    </tr>\n",
       "    <tr>\n",
       "      <th>4</th>\n",
       "      <td>0.6988</td>\n",
       "      <td>0.000</td>\n",
       "      <td>0.676</td>\n",
       "      <td>0.324</td>\n",
       "    </tr>\n",
       "  </tbody>\n",
       "</table>\n",
       "</div>"
      ],
      "text/plain": [
       "   compound    neg    neu    pos\n",
       "0    0.0000  0.000  1.000  0.000\n",
       "1    0.0000  0.000  1.000  0.000\n",
       "2    0.5574  0.000  0.714  0.286\n",
       "3   -0.2023  0.265  0.735  0.000\n",
       "4    0.6988  0.000  0.676  0.324"
      ]
     },
     "execution_count": 15,
     "metadata": {},
     "output_type": "execute_result"
    }
   ],
   "source": [
    "posts_df = pd.DataFrame(posts)\n",
    "posts_df.head()"
   ]
  },
  {
   "cell_type": "code",
   "execution_count": 16,
   "metadata": {},
   "outputs": [],
   "source": [
    "sentiment_df = pd.concat([posts_df, df.reset_index(drop = True)], axis = 1)\n",
    "sentiment_df['subreddit'] = sentiment_df['subreddit'].map({'anime':'Anime',\n",
    "                             'KDRAMA':'KDrama'})"
   ]
  },
  {
   "cell_type": "code",
   "execution_count": 17,
   "metadata": {},
   "outputs": [
    {
     "data": {
      "text/html": [
       "<div>\n",
       "<style scoped>\n",
       "    .dataframe tbody tr th:only-of-type {\n",
       "        vertical-align: middle;\n",
       "    }\n",
       "\n",
       "    .dataframe tbody tr th {\n",
       "        vertical-align: top;\n",
       "    }\n",
       "\n",
       "    .dataframe thead th {\n",
       "        text-align: right;\n",
       "    }\n",
       "</style>\n",
       "<table border=\"1\" class=\"dataframe\">\n",
       "  <thead>\n",
       "    <tr style=\"text-align: right;\">\n",
       "      <th></th>\n",
       "      <th>compound</th>\n",
       "      <th>neg</th>\n",
       "      <th>neu</th>\n",
       "      <th>pos</th>\n",
       "      <th>subreddit</th>\n",
       "      <th>title</th>\n",
       "    </tr>\n",
       "  </thead>\n",
       "  <tbody>\n",
       "    <tr>\n",
       "      <th>0</th>\n",
       "      <td>0.0000</td>\n",
       "      <td>0.000</td>\n",
       "      <td>1.000</td>\n",
       "      <td>0.000</td>\n",
       "      <td>Anime</td>\n",
       "      <td>Wiki Overhaul Month, Week 2: Watch Order Wiki</td>\n",
       "    </tr>\n",
       "    <tr>\n",
       "      <th>1</th>\n",
       "      <td>0.0000</td>\n",
       "      <td>0.000</td>\n",
       "      <td>1.000</td>\n",
       "      <td>0.000</td>\n",
       "      <td>Anime</td>\n",
       "      <td>Recommendation Tuesdays Megathread - Week of July 02, 2019</td>\n",
       "    </tr>\n",
       "    <tr>\n",
       "      <th>2</th>\n",
       "      <td>0.5574</td>\n",
       "      <td>0.000</td>\n",
       "      <td>0.714</td>\n",
       "      <td>0.286</td>\n",
       "      <td>Anime</td>\n",
       "      <td>My Hero Academia Season 4 is reportedly listed for 25 episodes</td>\n",
       "    </tr>\n",
       "    <tr>\n",
       "      <th>3</th>\n",
       "      <td>-0.2023</td>\n",
       "      <td>0.265</td>\n",
       "      <td>0.735</td>\n",
       "      <td>0.000</td>\n",
       "      <td>Anime</td>\n",
       "      <td>Dumbbell Nan Kilo Moteru? - Episode 1 discussion</td>\n",
       "    </tr>\n",
       "    <tr>\n",
       "      <th>4</th>\n",
       "      <td>0.6988</td>\n",
       "      <td>0.000</td>\n",
       "      <td>0.676</td>\n",
       "      <td>0.324</td>\n",
       "      <td>Anime</td>\n",
       "      <td>Best Girl 6: Starting Salt in Another Contest! Round 5 Bracket C!</td>\n",
       "    </tr>\n",
       "  </tbody>\n",
       "</table>\n",
       "</div>"
      ],
      "text/plain": [
       "   compound    neg    neu    pos subreddit  \\\n",
       "0    0.0000  0.000  1.000  0.000     Anime   \n",
       "1    0.0000  0.000  1.000  0.000     Anime   \n",
       "2    0.5574  0.000  0.714  0.286     Anime   \n",
       "3   -0.2023  0.265  0.735  0.000     Anime   \n",
       "4    0.6988  0.000  0.676  0.324     Anime   \n",
       "\n",
       "                                                               title  \n",
       "0                      Wiki Overhaul Month, Week 2: Watch Order Wiki  \n",
       "1         Recommendation Tuesdays Megathread - Week of July 02, 2019  \n",
       "2     My Hero Academia Season 4 is reportedly listed for 25 episodes  \n",
       "3                   Dumbbell Nan Kilo Moteru? - Episode 1 discussion  \n",
       "4  Best Girl 6: Starting Salt in Another Contest! Round 5 Bracket C!  "
      ]
     },
     "execution_count": 17,
     "metadata": {},
     "output_type": "execute_result"
    }
   ],
   "source": [
    "sentiment_df.head()"
   ]
  },
  {
   "cell_type": "code",
   "execution_count": 18,
   "metadata": {},
   "outputs": [
    {
     "data": {
      "text/html": [
       "<div>\n",
       "<style scoped>\n",
       "    .dataframe tbody tr th:only-of-type {\n",
       "        vertical-align: middle;\n",
       "    }\n",
       "\n",
       "    .dataframe tbody tr th {\n",
       "        vertical-align: top;\n",
       "    }\n",
       "\n",
       "    .dataframe thead th {\n",
       "        text-align: right;\n",
       "    }\n",
       "</style>\n",
       "<table border=\"1\" class=\"dataframe\">\n",
       "  <thead>\n",
       "    <tr style=\"text-align: right;\">\n",
       "      <th></th>\n",
       "      <th>compound</th>\n",
       "      <th>neg</th>\n",
       "      <th>neu</th>\n",
       "      <th>pos</th>\n",
       "    </tr>\n",
       "  </thead>\n",
       "  <tbody>\n",
       "    <tr>\n",
       "      <th>count</th>\n",
       "      <td>2974.000000</td>\n",
       "      <td>2974.000000</td>\n",
       "      <td>2974.000000</td>\n",
       "      <td>2974.000000</td>\n",
       "    </tr>\n",
       "    <tr>\n",
       "      <th>mean</th>\n",
       "      <td>0.071189</td>\n",
       "      <td>0.063441</td>\n",
       "      <td>0.828667</td>\n",
       "      <td>0.107892</td>\n",
       "    </tr>\n",
       "    <tr>\n",
       "      <th>std</th>\n",
       "      <td>0.334094</td>\n",
       "      <td>0.139550</td>\n",
       "      <td>0.211270</td>\n",
       "      <td>0.177245</td>\n",
       "    </tr>\n",
       "    <tr>\n",
       "      <th>min</th>\n",
       "      <td>-0.916400</td>\n",
       "      <td>0.000000</td>\n",
       "      <td>0.000000</td>\n",
       "      <td>0.000000</td>\n",
       "    </tr>\n",
       "    <tr>\n",
       "      <th>25%</th>\n",
       "      <td>0.000000</td>\n",
       "      <td>0.000000</td>\n",
       "      <td>0.678000</td>\n",
       "      <td>0.000000</td>\n",
       "    </tr>\n",
       "    <tr>\n",
       "      <th>50%</th>\n",
       "      <td>0.000000</td>\n",
       "      <td>0.000000</td>\n",
       "      <td>1.000000</td>\n",
       "      <td>0.000000</td>\n",
       "    </tr>\n",
       "    <tr>\n",
       "      <th>75%</th>\n",
       "      <td>0.316400</td>\n",
       "      <td>0.000000</td>\n",
       "      <td>1.000000</td>\n",
       "      <td>0.205000</td>\n",
       "    </tr>\n",
       "    <tr>\n",
       "      <th>max</th>\n",
       "      <td>0.973900</td>\n",
       "      <td>1.000000</td>\n",
       "      <td>1.000000</td>\n",
       "      <td>1.000000</td>\n",
       "    </tr>\n",
       "  </tbody>\n",
       "</table>\n",
       "</div>"
      ],
      "text/plain": [
       "          compound          neg          neu          pos\n",
       "count  2974.000000  2974.000000  2974.000000  2974.000000\n",
       "mean      0.071189     0.063441     0.828667     0.107892\n",
       "std       0.334094     0.139550     0.211270     0.177245\n",
       "min      -0.916400     0.000000     0.000000     0.000000\n",
       "25%       0.000000     0.000000     0.678000     0.000000\n",
       "50%       0.000000     0.000000     1.000000     0.000000\n",
       "75%       0.316400     0.000000     1.000000     0.205000\n",
       "max       0.973900     1.000000     1.000000     1.000000"
      ]
     },
     "execution_count": 18,
     "metadata": {},
     "output_type": "execute_result"
    }
   ],
   "source": [
    "sentiment_df.describe()"
   ]
  },
  {
   "cell_type": "markdown",
   "metadata": {},
   "source": [
    "Above we can see the general spread of the scores for both anime and kdrama subreddits. Some takeaways are:\n",
    "> * Our average compound score is $0.361$, which tells me that people tend to post positively about animes and kdramas. \n",
    "* We have a max and min compound score of $1$ and $-1$ respectively, letting me know that there are some posts that are entirely positive and negative.\n",
    "* At least $75 \\%$ of my posts have a neutral score of at least $.735$, which tells me that people are either busy building to what they want to say, or aren't too opinionated. I'm going to go out on a limb and say it's the former. "
   ]
  },
  {
   "cell_type": "markdown",
   "metadata": {},
   "source": [
    "### Highest Scoring Negative and Positive Posts\n",
    "\n",
    "> * Anime has the $4$ most negative comound posts and KDrama has the $4$ most positive compound posts\n",
    "* Anime has the top $4$ most positive posts and the top 5 most negative posts"
   ]
  },
  {
   "cell_type": "markdown",
   "metadata": {},
   "source": [
    "* Most Negative Compound Scoring Posts"
   ]
  },
  {
   "cell_type": "code",
   "execution_count": 19,
   "metadata": {},
   "outputs": [
    {
     "data": {
      "text/html": [
       "<div>\n",
       "<style scoped>\n",
       "    .dataframe tbody tr th:only-of-type {\n",
       "        vertical-align: middle;\n",
       "    }\n",
       "\n",
       "    .dataframe tbody tr th {\n",
       "        vertical-align: top;\n",
       "    }\n",
       "\n",
       "    .dataframe thead th {\n",
       "        text-align: right;\n",
       "    }\n",
       "</style>\n",
       "<table border=\"1\" class=\"dataframe\">\n",
       "  <thead>\n",
       "    <tr style=\"text-align: right;\">\n",
       "      <th></th>\n",
       "      <th>compound</th>\n",
       "      <th>neg</th>\n",
       "      <th>neu</th>\n",
       "      <th>pos</th>\n",
       "      <th>subreddit</th>\n",
       "      <th>title</th>\n",
       "    </tr>\n",
       "  </thead>\n",
       "  <tbody>\n",
       "    <tr>\n",
       "      <th>895</th>\n",
       "      <td>-0.9164</td>\n",
       "      <td>0.521</td>\n",
       "      <td>0.479</td>\n",
       "      <td>0.000</td>\n",
       "      <td>Anime</td>\n",
       "      <td>[Aniplex of America] KILL La KILL Complete Blu-ray Box Set. December 24.</td>\n",
       "    </tr>\n",
       "    <tr>\n",
       "      <th>1866</th>\n",
       "      <td>-0.9113</td>\n",
       "      <td>0.623</td>\n",
       "      <td>0.377</td>\n",
       "      <td>0.000</td>\n",
       "      <td>Anime</td>\n",
       "      <td>Who are the most evil, heartless and disgusting anime characters?</td>\n",
       "    </tr>\n",
       "    <tr>\n",
       "      <th>2153</th>\n",
       "      <td>-0.8934</td>\n",
       "      <td>0.269</td>\n",
       "      <td>0.683</td>\n",
       "      <td>0.048</td>\n",
       "      <td>Anime</td>\n",
       "      <td>What's up with all the hate for Boruto?...Dub life struggles. Please don't tell me the people in this are more Bratty &amp;amp; more fillers fml Naruto was full of Bratty I wanted to get killed off sm...</td>\n",
       "    </tr>\n",
       "    <tr>\n",
       "      <th>1900</th>\n",
       "      <td>-0.8860</td>\n",
       "      <td>0.904</td>\n",
       "      <td>0.096</td>\n",
       "      <td>0.000</td>\n",
       "      <td>Anime</td>\n",
       "      <td>Kill la kill</td>\n",
       "    </tr>\n",
       "    <tr>\n",
       "      <th>1302</th>\n",
       "      <td>-0.8822</td>\n",
       "      <td>0.562</td>\n",
       "      <td>0.438</td>\n",
       "      <td>0.000</td>\n",
       "      <td>Anime</td>\n",
       "      <td>Anime moments that made you very angry and sad or depressed.</td>\n",
       "    </tr>\n",
       "  </tbody>\n",
       "</table>\n",
       "</div>"
      ],
      "text/plain": [
       "      compound    neg    neu    pos subreddit  \\\n",
       "895    -0.9164  0.521  0.479  0.000     Anime   \n",
       "1866   -0.9113  0.623  0.377  0.000     Anime   \n",
       "2153   -0.8934  0.269  0.683  0.048     Anime   \n",
       "1900   -0.8860  0.904  0.096  0.000     Anime   \n",
       "1302   -0.8822  0.562  0.438  0.000     Anime   \n",
       "\n",
       "                                                                                                                                                                                                        title  \n",
       "895                                                                                                                                  [Aniplex of America] KILL La KILL Complete Blu-ray Box Set. December 24.  \n",
       "1866                                                                                                                                        Who are the most evil, heartless and disgusting anime characters?  \n",
       "2153  What's up with all the hate for Boruto?...Dub life struggles. Please don't tell me the people in this are more Bratty &amp; more fillers fml Naruto was full of Bratty I wanted to get killed off sm...  \n",
       "1900                                                                                                                                                                                             Kill la kill  \n",
       "1302                                                                                                                                             Anime moments that made you very angry and sad or depressed.  "
      ]
     },
     "execution_count": 19,
     "metadata": {},
     "output_type": "execute_result"
    }
   ],
   "source": [
    "sentiment_df.sort_values(by = 'compound', ascending = True).head()"
   ]
  },
  {
   "cell_type": "markdown",
   "metadata": {},
   "source": [
    "* Most Positive Compount Scoring Posts"
   ]
  },
  {
   "cell_type": "code",
   "execution_count": 20,
   "metadata": {},
   "outputs": [
    {
     "data": {
      "text/html": [
       "<div>\n",
       "<style scoped>\n",
       "    .dataframe tbody tr th:only-of-type {\n",
       "        vertical-align: middle;\n",
       "    }\n",
       "\n",
       "    .dataframe tbody tr th {\n",
       "        vertical-align: top;\n",
       "    }\n",
       "\n",
       "    .dataframe thead th {\n",
       "        text-align: right;\n",
       "    }\n",
       "</style>\n",
       "<table border=\"1\" class=\"dataframe\">\n",
       "  <thead>\n",
       "    <tr style=\"text-align: right;\">\n",
       "      <th></th>\n",
       "      <th>compound</th>\n",
       "      <th>neg</th>\n",
       "      <th>neu</th>\n",
       "      <th>pos</th>\n",
       "      <th>subreddit</th>\n",
       "      <th>title</th>\n",
       "    </tr>\n",
       "  </thead>\n",
       "  <tbody>\n",
       "    <tr>\n",
       "      <th>2436</th>\n",
       "      <td>0.9739</td>\n",
       "      <td>0.000</td>\n",
       "      <td>0.594</td>\n",
       "      <td>0.406</td>\n",
       "      <td>KDrama</td>\n",
       "      <td>Who is the special needs dad in Its Ok That’s Love?? He’s so adorable and I love him even though he doesn’t have a big role. I also was wondering if he’s actually an actor playing a special needs ...</td>\n",
       "    </tr>\n",
       "    <tr>\n",
       "      <th>1248</th>\n",
       "      <td>0.9650</td>\n",
       "      <td>0.000</td>\n",
       "      <td>0.532</td>\n",
       "      <td>0.468</td>\n",
       "      <td>Anime</td>\n",
       "      <td>I’ve been watching anime since like high school but don’t think I have any friends that enjoy it as well. How do you guys makes friends who also like anime?</td>\n",
       "    </tr>\n",
       "    <tr>\n",
       "      <th>2469</th>\n",
       "      <td>0.9558</td>\n",
       "      <td>0.091</td>\n",
       "      <td>0.524</td>\n",
       "      <td>0.385</td>\n",
       "      <td>KDrama</td>\n",
       "      <td>Looney Han Yang :) I really am invested now in Prison Playbook. Ugh, I really love everyone in the drama. It is such a well written, black comedy that is giving me all the feels. Special props to ...</td>\n",
       "    </tr>\n",
       "    <tr>\n",
       "      <th>2949</th>\n",
       "      <td>0.9473</td>\n",
       "      <td>0.000</td>\n",
       "      <td>0.660</td>\n",
       "      <td>0.340</td>\n",
       "      <td>KDrama</td>\n",
       "      <td>Howdy lovely people. I searched this sub for posts about the KBS drama specials but there's not a lot in writings about those wonderful mini episodes. Anyone know where I can find musings/reviews/...</td>\n",
       "    </tr>\n",
       "    <tr>\n",
       "      <th>2713</th>\n",
       "      <td>0.9413</td>\n",
       "      <td>0.000</td>\n",
       "      <td>0.468</td>\n",
       "      <td>0.532</td>\n",
       "      <td>KDrama</td>\n",
       "      <td>“My Ahjussi” win best drama &amp;amp; script, Kim Hye Ja win daesang for 55th Baeksang Art Awards</td>\n",
       "    </tr>\n",
       "  </tbody>\n",
       "</table>\n",
       "</div>"
      ],
      "text/plain": [
       "      compound    neg    neu    pos subreddit  \\\n",
       "2436    0.9739  0.000  0.594  0.406    KDrama   \n",
       "1248    0.9650  0.000  0.532  0.468     Anime   \n",
       "2469    0.9558  0.091  0.524  0.385    KDrama   \n",
       "2949    0.9473  0.000  0.660  0.340    KDrama   \n",
       "2713    0.9413  0.000  0.468  0.532    KDrama   \n",
       "\n",
       "                                                                                                                                                                                                        title  \n",
       "2436  Who is the special needs dad in Its Ok That’s Love?? He’s so adorable and I love him even though he doesn’t have a big role. I also was wondering if he’s actually an actor playing a special needs ...  \n",
       "1248                                             I’ve been watching anime since like high school but don’t think I have any friends that enjoy it as well. How do you guys makes friends who also like anime?  \n",
       "2469  Looney Han Yang :) I really am invested now in Prison Playbook. Ugh, I really love everyone in the drama. It is such a well written, black comedy that is giving me all the feels. Special props to ...  \n",
       "2949  Howdy lovely people. I searched this sub for posts about the KBS drama specials but there's not a lot in writings about those wonderful mini episodes. Anyone know where I can find musings/reviews/...  \n",
       "2713                                                                                                            “My Ahjussi” win best drama &amp; script, Kim Hye Ja win daesang for 55th Baeksang Art Awards  "
      ]
     },
     "execution_count": 20,
     "metadata": {},
     "output_type": "execute_result"
    }
   ],
   "source": [
    "sentiment_df.sort_values(by = 'compound', ascending = False).head()"
   ]
  },
  {
   "cell_type": "markdown",
   "metadata": {},
   "source": [
    "* Most Positive Posts"
   ]
  },
  {
   "cell_type": "code",
   "execution_count": 21,
   "metadata": {},
   "outputs": [
    {
     "data": {
      "text/html": [
       "<div>\n",
       "<style scoped>\n",
       "    .dataframe tbody tr th:only-of-type {\n",
       "        vertical-align: middle;\n",
       "    }\n",
       "\n",
       "    .dataframe tbody tr th {\n",
       "        vertical-align: top;\n",
       "    }\n",
       "\n",
       "    .dataframe thead th {\n",
       "        text-align: right;\n",
       "    }\n",
       "</style>\n",
       "<table border=\"1\" class=\"dataframe\">\n",
       "  <thead>\n",
       "    <tr style=\"text-align: right;\">\n",
       "      <th></th>\n",
       "      <th>compound</th>\n",
       "      <th>neg</th>\n",
       "      <th>neu</th>\n",
       "      <th>pos</th>\n",
       "      <th>subreddit</th>\n",
       "      <th>title</th>\n",
       "    </tr>\n",
       "  </thead>\n",
       "  <tbody>\n",
       "    <tr>\n",
       "      <th>1859</th>\n",
       "      <td>0.4574</td>\n",
       "      <td>0.0</td>\n",
       "      <td>0.000</td>\n",
       "      <td>1.000</td>\n",
       "      <td>Anime</td>\n",
       "      <td>Help!</td>\n",
       "    </tr>\n",
       "    <tr>\n",
       "      <th>2463</th>\n",
       "      <td>0.7579</td>\n",
       "      <td>0.0</td>\n",
       "      <td>0.000</td>\n",
       "      <td>1.000</td>\n",
       "      <td>KDrama</td>\n",
       "      <td>Help? xd</td>\n",
       "    </tr>\n",
       "    <tr>\n",
       "      <th>1585</th>\n",
       "      <td>0.4019</td>\n",
       "      <td>0.0</td>\n",
       "      <td>0.000</td>\n",
       "      <td>1.000</td>\n",
       "      <td>Anime</td>\n",
       "      <td>help</td>\n",
       "    </tr>\n",
       "    <tr>\n",
       "      <th>1307</th>\n",
       "      <td>0.4019</td>\n",
       "      <td>0.0</td>\n",
       "      <td>0.000</td>\n",
       "      <td>1.000</td>\n",
       "      <td>Anime</td>\n",
       "      <td>Help</td>\n",
       "    </tr>\n",
       "    <tr>\n",
       "      <th>1510</th>\n",
       "      <td>0.8074</td>\n",
       "      <td>0.0</td>\n",
       "      <td>0.108</td>\n",
       "      <td>0.892</td>\n",
       "      <td>Anime</td>\n",
       "      <td>Any good romantic comedies?</td>\n",
       "    </tr>\n",
       "  </tbody>\n",
       "</table>\n",
       "</div>"
      ],
      "text/plain": [
       "      compound  neg    neu    pos subreddit                        title\n",
       "1859    0.4574  0.0  0.000  1.000     Anime                        Help!\n",
       "2463    0.7579  0.0  0.000  1.000    KDrama                     Help? xd\n",
       "1585    0.4019  0.0  0.000  1.000     Anime                         help\n",
       "1307    0.4019  0.0  0.000  1.000     Anime                         Help\n",
       "1510    0.8074  0.0  0.108  0.892     Anime  Any good romantic comedies?"
      ]
     },
     "execution_count": 21,
     "metadata": {},
     "output_type": "execute_result"
    }
   ],
   "source": [
    "sentiment_df.sort_values(by = 'pos', ascending = False).head()"
   ]
  },
  {
   "cell_type": "markdown",
   "metadata": {},
   "source": [
    "* Most Negative Posts"
   ]
  },
  {
   "cell_type": "code",
   "execution_count": 22,
   "metadata": {},
   "outputs": [
    {
     "data": {
      "text/html": [
       "<div>\n",
       "<style scoped>\n",
       "    .dataframe tbody tr th:only-of-type {\n",
       "        vertical-align: middle;\n",
       "    }\n",
       "\n",
       "    .dataframe tbody tr th {\n",
       "        vertical-align: top;\n",
       "    }\n",
       "\n",
       "    .dataframe thead th {\n",
       "        text-align: right;\n",
       "    }\n",
       "</style>\n",
       "<table border=\"1\" class=\"dataframe\">\n",
       "  <thead>\n",
       "    <tr style=\"text-align: right;\">\n",
       "      <th></th>\n",
       "      <th>compound</th>\n",
       "      <th>neg</th>\n",
       "      <th>neu</th>\n",
       "      <th>pos</th>\n",
       "      <th>subreddit</th>\n",
       "      <th>title</th>\n",
       "    </tr>\n",
       "  </thead>\n",
       "  <tbody>\n",
       "    <tr>\n",
       "      <th>1111</th>\n",
       "      <td>-0.3400</td>\n",
       "      <td>1.000</td>\n",
       "      <td>0.000</td>\n",
       "      <td>0.0</td>\n",
       "      <td>Anime</td>\n",
       "      <td>Mistake?</td>\n",
       "    </tr>\n",
       "    <tr>\n",
       "      <th>2545</th>\n",
       "      <td>-0.5622</td>\n",
       "      <td>1.000</td>\n",
       "      <td>0.000</td>\n",
       "      <td>0.0</td>\n",
       "      <td>KDrama</td>\n",
       "      <td>I miss CONFLICT</td>\n",
       "    </tr>\n",
       "    <tr>\n",
       "      <th>1900</th>\n",
       "      <td>-0.8860</td>\n",
       "      <td>0.904</td>\n",
       "      <td>0.096</td>\n",
       "      <td>0.0</td>\n",
       "      <td>Anime</td>\n",
       "      <td>Kill la kill</td>\n",
       "    </tr>\n",
       "    <tr>\n",
       "      <th>2542</th>\n",
       "      <td>-0.5994</td>\n",
       "      <td>0.796</td>\n",
       "      <td>0.204</td>\n",
       "      <td>0.0</td>\n",
       "      <td>KDrama</td>\n",
       "      <td>Character’s death</td>\n",
       "    </tr>\n",
       "    <tr>\n",
       "      <th>1215</th>\n",
       "      <td>-0.5994</td>\n",
       "      <td>0.796</td>\n",
       "      <td>0.204</td>\n",
       "      <td>0.0</td>\n",
       "      <td>Anime</td>\n",
       "      <td>Death Parade</td>\n",
       "    </tr>\n",
       "  </tbody>\n",
       "</table>\n",
       "</div>"
      ],
      "text/plain": [
       "      compound    neg    neu  pos subreddit              title\n",
       "1111   -0.3400  1.000  0.000  0.0     Anime           Mistake?\n",
       "2545   -0.5622  1.000  0.000  0.0    KDrama    I miss CONFLICT\n",
       "1900   -0.8860  0.904  0.096  0.0     Anime       Kill la kill\n",
       "2542   -0.5994  0.796  0.204  0.0    KDrama  Character’s death\n",
       "1215   -0.5994  0.796  0.204  0.0     Anime       Death Parade"
      ]
     },
     "execution_count": 22,
     "metadata": {},
     "output_type": "execute_result"
    }
   ],
   "source": [
    "sentiment_df.sort_values(by = 'neg', ascending = False).head()"
   ]
  },
  {
   "cell_type": "markdown",
   "metadata": {},
   "source": [
    "***\n",
    "### Figures"
   ]
  },
  {
   "cell_type": "code",
   "execution_count": 23,
   "metadata": {},
   "outputs": [
    {
     "data": {
      "text/plain": [
       "Anime     2155\n",
       "KDrama     819\n",
       "Name: subreddit, dtype: int64"
      ]
     },
     "execution_count": 23,
     "metadata": {},
     "output_type": "execute_result"
    }
   ],
   "source": [
    "sentiment_df['subreddit'].value_counts()"
   ]
  },
  {
   "cell_type": "markdown",
   "metadata": {},
   "source": [
    "* Average Compound Score by Subreddit"
   ]
  },
  {
   "cell_type": "code",
   "execution_count": 24,
   "metadata": {
    "scrolled": true
   },
   "outputs": [
    {
     "data": {
      "image/png": "[encoded data removed]",
      "text/plain": [
       "<Figure size 432x288 with 1 Axes>"
      ]
     },
     "metadata": {
      "needs_background": "light"
     },
     "output_type": "display_data"
    }
   ],
   "source": [
    "sentiment_df.groupby('subreddit').mean()[['compound']].plot(kind = 'barh')\n",
    "plt.title('Average Compound Title Score by Subreddit', fontsize = 15)\n",
    "plt.xlabel('Score', fontsize = 14)\n",
    "plt.ylabel('Subreddit', fontsize = 14);"
   ]
  },
  {
   "cell_type": "markdown",
   "metadata": {},
   "source": [
    ">From this figure it's clear that KDrama posts tend to have more positive sentiment that Anime posts. "
   ]
  },
  {
   "cell_type": "markdown",
   "metadata": {},
   "source": [
    "***\n",
    "* Average Positive and Negative Score by Subreddit"
   ]
  },
  {
   "cell_type": "code",
   "execution_count": 25,
   "metadata": {},
   "outputs": [
    {
     "data": {
      "image/png": "[encoded data removed]",
      "text/plain": [
       "<Figure size 432x288 with 1 Axes>"
      ]
     },
     "metadata": {
      "needs_background": "light"
     },
     "output_type": "display_data"
    }
   ],
   "source": [
    "sentiment_df.groupby('subreddit').mean()[['neg', 'pos']].plot(kind = 'barh')\n",
    "plt.title('Average Positive and Negative Title Scores by Subreddit', fontsize = 15)\n",
    "plt.ylabel('Subreddit', fontsize = 14)\n",
    "plt.xlabel('Score', fontsize = 14);"
   ]
  },
  {
   "cell_type": "markdown",
   "metadata": {},
   "source": [
    "> This figure makes it very clear that on average, positive posts were significantly more positive than negative posts were negatives for both subreddits."
   ]
  },
  {
   "cell_type": "markdown",
   "metadata": {},
   "source": [
    "***\n",
    "* Distribution of Compound Scores by Subreddit"
   ]
  },
  {
   "cell_type": "code",
   "execution_count": 26,
   "metadata": {},
   "outputs": [
    {
     "data": {
      "image/png": "[encoded data removed]",
      "text/plain": [
       "<Figure size 360x360 with 1 Axes>"
      ]
     },
     "metadata": {
      "needs_background": "light"
     },
     "output_type": "display_data"
    }
   ],
   "source": [
    "sns.catplot(y = 'compound',\n",
    "            x = 'subreddit',\n",
    "            data = sentiment_df, \n",
    "            kind = 'violin')\n",
    "plt.title('Distribution of Compound Title Scores by Subreddit', fontsize = 15)\n",
    "plt.xlabel('Subreddit', fontsize = 13)\n",
    "plt.ylabel('Compound Score', fontsize = 13);"
   ]
  },
  {
   "cell_type": "markdown",
   "metadata": {},
   "source": [
    "> This figure shows that both posts have more positive than negative posts. \n",
    "It also shows that there are more neutral anime posts that KDrama posts. "
   ]
  },
  {
   "cell_type": "code",
   "execution_count": 27,
   "metadata": {},
   "outputs": [],
   "source": [
    "cv = CountVectorizer(stop_words = 'english', max_df=.9)\n",
    "tf = TfidfVectorizer(stop_words = 'english', max_df=.9)"
   ]
  },
  {
   "cell_type": "code",
   "execution_count": 28,
   "metadata": {},
   "outputs": [
    {
     "data": {
      "text/plain": [
       "CountVectorizer(analyzer='word', binary=False, decode_error='strict',\n",
       "        dtype=<class 'numpy.int64'>, encoding='utf-8', input='content',\n",
       "        lowercase=True, max_df=0.9, max_features=None, min_df=1,\n",
       "        ngram_range=(1, 1), preprocessor=None, stop_words='english',\n",
       "        strip_accents=None, token_pattern='(?u)\\\\b\\\\w\\\\w+\\\\b',\n",
       "        tokenizer=None, vocabulary=None)"
      ]
     },
     "execution_count": 28,
     "metadata": {},
     "output_type": "execute_result"
    }
   ],
   "source": [
    "#Fit dataframe to corpus\n",
    "cv.fit(sentiment_df['title'])"
   ]
  },
  {
   "cell_type": "code",
   "execution_count": 29,
   "metadata": {},
   "outputs": [
    {
     "data": {
      "text/plain": [
       "TfidfVectorizer(analyzer='word', binary=False, decode_error='strict',\n",
       "        dtype=<class 'numpy.float64'>, encoding='utf-8', input='content',\n",
       "        lowercase=True, max_df=0.9, max_features=None, min_df=1,\n",
       "        ngram_range=(1, 1), norm='l2', preprocessor=None, smooth_idf=True,\n",
       "        stop_words='english', strip_accents=None, sublinear_tf=False,\n",
       "        token_pattern='(?u)\\\\b\\\\w\\\\w+\\\\b', tokenizer=None, use_idf=True,\n",
       "        vocabulary=None)"
      ]
     },
     "execution_count": 29,
     "metadata": {},
     "output_type": "execute_result"
    }
   ],
   "source": [
    "# fit tfidf vectorizer to corpus\n",
    "tf.fit(sentiment_df['title'])"
   ]
  },
  {
   "cell_type": "code",
   "execution_count": 30,
   "metadata": {},
   "outputs": [],
   "source": [
    "#trasform title\n",
    "title_words_cv = cv.transform(sentiment_df['title'])"
   ]
  },
  {
   "cell_type": "code",
   "execution_count": 31,
   "metadata": {},
   "outputs": [
    {
     "data": {
      "text/html": [
       "<div>\n",
       "<style scoped>\n",
       "    .dataframe tbody tr th:only-of-type {\n",
       "        vertical-align: middle;\n",
       "    }\n",
       "\n",
       "    .dataframe tbody tr th {\n",
       "        vertical-align: top;\n",
       "    }\n",
       "\n",
       "    .dataframe thead th {\n",
       "        text-align: right;\n",
       "    }\n",
       "</style>\n",
       "<table border=\"1\" class=\"dataframe\">\n",
       "  <thead>\n",
       "    <tr style=\"text-align: right;\">\n",
       "      <th></th>\n",
       "      <th>00</th>\n",
       "      <th>01</th>\n",
       "      <th>02</th>\n",
       "      <th>03</th>\n",
       "      <th>04</th>\n",
       "      <th>05</th>\n",
       "      <th>05172019</th>\n",
       "      <th>06</th>\n",
       "      <th>07</th>\n",
       "      <th>0706</th>\n",
       "      <th>...</th>\n",
       "      <th>사랑하니까</th>\n",
       "      <th>세상</th>\n",
       "      <th>썸탈</th>\n",
       "      <th>아름다운</th>\n",
       "      <th>와이키키</th>\n",
       "      <th>으라차차</th>\n",
       "      <th>처음이라서</th>\n",
       "      <th>첫사랑은</th>\n",
       "      <th>터지는</th>\n",
       "      <th>트리플썸</th>\n",
       "    </tr>\n",
       "  </thead>\n",
       "  <tbody>\n",
       "    <tr>\n",
       "      <th>0</th>\n",
       "      <td>0</td>\n",
       "      <td>0</td>\n",
       "      <td>0</td>\n",
       "      <td>0</td>\n",
       "      <td>0</td>\n",
       "      <td>0</td>\n",
       "      <td>0</td>\n",
       "      <td>0</td>\n",
       "      <td>0</td>\n",
       "      <td>0</td>\n",
       "      <td>...</td>\n",
       "      <td>0</td>\n",
       "      <td>0</td>\n",
       "      <td>0</td>\n",
       "      <td>0</td>\n",
       "      <td>0</td>\n",
       "      <td>0</td>\n",
       "      <td>0</td>\n",
       "      <td>0</td>\n",
       "      <td>0</td>\n",
       "      <td>0</td>\n",
       "    </tr>\n",
       "    <tr>\n",
       "      <th>1</th>\n",
       "      <td>0</td>\n",
       "      <td>0</td>\n",
       "      <td>1</td>\n",
       "      <td>0</td>\n",
       "      <td>0</td>\n",
       "      <td>0</td>\n",
       "      <td>0</td>\n",
       "      <td>0</td>\n",
       "      <td>0</td>\n",
       "      <td>0</td>\n",
       "      <td>...</td>\n",
       "      <td>0</td>\n",
       "      <td>0</td>\n",
       "      <td>0</td>\n",
       "      <td>0</td>\n",
       "      <td>0</td>\n",
       "      <td>0</td>\n",
       "      <td>0</td>\n",
       "      <td>0</td>\n",
       "      <td>0</td>\n",
       "      <td>0</td>\n",
       "    </tr>\n",
       "    <tr>\n",
       "      <th>2</th>\n",
       "      <td>0</td>\n",
       "      <td>0</td>\n",
       "      <td>0</td>\n",
       "      <td>0</td>\n",
       "      <td>0</td>\n",
       "      <td>0</td>\n",
       "      <td>0</td>\n",
       "      <td>0</td>\n",
       "      <td>0</td>\n",
       "      <td>0</td>\n",
       "      <td>...</td>\n",
       "      <td>0</td>\n",
       "      <td>0</td>\n",
       "      <td>0</td>\n",
       "      <td>0</td>\n",
       "      <td>0</td>\n",
       "      <td>0</td>\n",
       "      <td>0</td>\n",
       "      <td>0</td>\n",
       "      <td>0</td>\n",
       "      <td>0</td>\n",
       "    </tr>\n",
       "    <tr>\n",
       "      <th>3</th>\n",
       "      <td>0</td>\n",
       "      <td>0</td>\n",
       "      <td>0</td>\n",
       "      <td>0</td>\n",
       "      <td>0</td>\n",
       "      <td>0</td>\n",
       "      <td>0</td>\n",
       "      <td>0</td>\n",
       "      <td>0</td>\n",
       "      <td>0</td>\n",
       "      <td>...</td>\n",
       "      <td>0</td>\n",
       "      <td>0</td>\n",
       "      <td>0</td>\n",
       "      <td>0</td>\n",
       "      <td>0</td>\n",
       "      <td>0</td>\n",
       "      <td>0</td>\n",
       "      <td>0</td>\n",
       "      <td>0</td>\n",
       "      <td>0</td>\n",
       "    </tr>\n",
       "    <tr>\n",
       "      <th>4</th>\n",
       "      <td>0</td>\n",
       "      <td>0</td>\n",
       "      <td>0</td>\n",
       "      <td>0</td>\n",
       "      <td>0</td>\n",
       "      <td>0</td>\n",
       "      <td>0</td>\n",
       "      <td>0</td>\n",
       "      <td>0</td>\n",
       "      <td>0</td>\n",
       "      <td>...</td>\n",
       "      <td>0</td>\n",
       "      <td>0</td>\n",
       "      <td>0</td>\n",
       "      <td>0</td>\n",
       "      <td>0</td>\n",
       "      <td>0</td>\n",
       "      <td>0</td>\n",
       "      <td>0</td>\n",
       "      <td>0</td>\n",
       "      <td>0</td>\n",
       "    </tr>\n",
       "  </tbody>\n",
       "</table>\n",
       "<p>5 rows × 4353 columns</p>\n",
       "</div>"
      ],
      "text/plain": [
       "   00  01  02  03  04  05  05172019  06  07  0706  ...  사랑하니까  세상  썸탈  아름다운  \\\n",
       "0   0   0   0   0   0   0         0   0   0     0  ...      0   0   0     0   \n",
       "1   0   0   1   0   0   0         0   0   0     0  ...      0   0   0     0   \n",
       "2   0   0   0   0   0   0         0   0   0     0  ...      0   0   0     0   \n",
       "3   0   0   0   0   0   0         0   0   0     0  ...      0   0   0     0   \n",
       "4   0   0   0   0   0   0         0   0   0     0  ...      0   0   0     0   \n",
       "\n",
       "   와이키키  으라차차  처음이라서  첫사랑은  터지는  트리플썸  \n",
       "0     0     0      0     0    0     0  \n",
       "1     0     0      0     0    0     0  \n",
       "2     0     0      0     0    0     0  \n",
       "3     0     0      0     0    0     0  \n",
       "4     0     0      0     0    0     0  \n",
       "\n",
       "[5 rows x 4353 columns]"
      ]
     },
     "execution_count": 31,
     "metadata": {},
     "output_type": "execute_result"
    }
   ],
   "source": [
    "# Convert title into a DataFrame using CountVectorizer\n",
    "title_df_cv = pd.DataFrame(title_words_cv.toarray(),\n",
    "                         columns = cv.get_feature_names())\n",
    "title_df_cv.head()"
   ]
  },
  {
   "cell_type": "code",
   "execution_count": 32,
   "metadata": {},
   "outputs": [],
   "source": [
    "#Finding top 20 CountVectorized words\n",
    "top_10_cv =title_df_cv.sum().sort_values(ascending = False).head(10)"
   ]
  },
  {
   "cell_type": "code",
   "execution_count": 38,
   "metadata": {},
   "outputs": [
    {
     "data": {
      "text/plain": [
       "(array([0, 1, 2, 3, 4, 5, 6, 7, 8, 9]), <a list of 10 Text yticklabel objects>)"
      ]
     },
     "execution_count": 38,
     "metadata": {},
     "output_type": "execute_result"
    },
    {
     "data": {
      "image/png": "[encoded data removed]",
      "text/plain": [
       "<Figure size 864x576 with 1 Axes>"
      ]
     },
     "metadata": {
      "needs_background": "light"
     },
     "output_type": "display_data"
    }
   ],
   "source": [
    "plt.figure(figsize=(12,8))\n",
    "top_10_cv.plot(kind = 'barh')\n",
    "\n",
    "plt.title('Top 10 CountVectorized Words in Title', fontsize = 15)\n",
    "plt.xlabel('Count', fontsize = 13)\n",
    "plt.yticks(fontsize = 12);"
   ]
  },
  {
   "cell_type": "code",
   "execution_count": 34,
   "metadata": {},
   "outputs": [],
   "source": [
    "#transform title strings into columns using TFIDFVectorizer\n",
    "title_words_tf = tf.transform(sentiment_df['title'])"
   ]
  },
  {
   "cell_type": "code",
   "execution_count": 35,
   "metadata": {},
   "outputs": [
    {
     "data": {
      "text/html": [
       "<div>\n",
       "<style scoped>\n",
       "    .dataframe tbody tr th:only-of-type {\n",
       "        vertical-align: middle;\n",
       "    }\n",
       "\n",
       "    .dataframe tbody tr th {\n",
       "        vertical-align: top;\n",
       "    }\n",
       "\n",
       "    .dataframe thead th {\n",
       "        text-align: right;\n",
       "    }\n",
       "</style>\n",
       "<table border=\"1\" class=\"dataframe\">\n",
       "  <thead>\n",
       "    <tr style=\"text-align: right;\">\n",
       "      <th></th>\n",
       "      <th>00</th>\n",
       "      <th>01</th>\n",
       "      <th>02</th>\n",
       "      <th>03</th>\n",
       "      <th>04</th>\n",
       "      <th>05</th>\n",
       "      <th>05172019</th>\n",
       "      <th>06</th>\n",
       "      <th>07</th>\n",
       "      <th>0706</th>\n",
       "      <th>...</th>\n",
       "      <th>사랑하니까</th>\n",
       "      <th>세상</th>\n",
       "      <th>썸탈</th>\n",
       "      <th>아름다운</th>\n",
       "      <th>와이키키</th>\n",
       "      <th>으라차차</th>\n",
       "      <th>처음이라서</th>\n",
       "      <th>첫사랑은</th>\n",
       "      <th>터지는</th>\n",
       "      <th>트리플썸</th>\n",
       "    </tr>\n",
       "  </thead>\n",
       "  <tbody>\n",
       "    <tr>\n",
       "      <th>0</th>\n",
       "      <td>0.0</td>\n",
       "      <td>0.0</td>\n",
       "      <td>0.000000</td>\n",
       "      <td>0.0</td>\n",
       "      <td>0.0</td>\n",
       "      <td>0.0</td>\n",
       "      <td>0.0</td>\n",
       "      <td>0.0</td>\n",
       "      <td>0.0</td>\n",
       "      <td>0.0</td>\n",
       "      <td>...</td>\n",
       "      <td>0.0</td>\n",
       "      <td>0.0</td>\n",
       "      <td>0.0</td>\n",
       "      <td>0.0</td>\n",
       "      <td>0.0</td>\n",
       "      <td>0.0</td>\n",
       "      <td>0.0</td>\n",
       "      <td>0.0</td>\n",
       "      <td>0.0</td>\n",
       "      <td>0.0</td>\n",
       "    </tr>\n",
       "    <tr>\n",
       "      <th>1</th>\n",
       "      <td>0.0</td>\n",
       "      <td>0.0</td>\n",
       "      <td>0.452437</td>\n",
       "      <td>0.0</td>\n",
       "      <td>0.0</td>\n",
       "      <td>0.0</td>\n",
       "      <td>0.0</td>\n",
       "      <td>0.0</td>\n",
       "      <td>0.0</td>\n",
       "      <td>0.0</td>\n",
       "      <td>...</td>\n",
       "      <td>0.0</td>\n",
       "      <td>0.0</td>\n",
       "      <td>0.0</td>\n",
       "      <td>0.0</td>\n",
       "      <td>0.0</td>\n",
       "      <td>0.0</td>\n",
       "      <td>0.0</td>\n",
       "      <td>0.0</td>\n",
       "      <td>0.0</td>\n",
       "      <td>0.0</td>\n",
       "    </tr>\n",
       "    <tr>\n",
       "      <th>2</th>\n",
       "      <td>0.0</td>\n",
       "      <td>0.0</td>\n",
       "      <td>0.000000</td>\n",
       "      <td>0.0</td>\n",
       "      <td>0.0</td>\n",
       "      <td>0.0</td>\n",
       "      <td>0.0</td>\n",
       "      <td>0.0</td>\n",
       "      <td>0.0</td>\n",
       "      <td>0.0</td>\n",
       "      <td>...</td>\n",
       "      <td>0.0</td>\n",
       "      <td>0.0</td>\n",
       "      <td>0.0</td>\n",
       "      <td>0.0</td>\n",
       "      <td>0.0</td>\n",
       "      <td>0.0</td>\n",
       "      <td>0.0</td>\n",
       "      <td>0.0</td>\n",
       "      <td>0.0</td>\n",
       "      <td>0.0</td>\n",
       "    </tr>\n",
       "    <tr>\n",
       "      <th>3</th>\n",
       "      <td>0.0</td>\n",
       "      <td>0.0</td>\n",
       "      <td>0.000000</td>\n",
       "      <td>0.0</td>\n",
       "      <td>0.0</td>\n",
       "      <td>0.0</td>\n",
       "      <td>0.0</td>\n",
       "      <td>0.0</td>\n",
       "      <td>0.0</td>\n",
       "      <td>0.0</td>\n",
       "      <td>...</td>\n",
       "      <td>0.0</td>\n",
       "      <td>0.0</td>\n",
       "      <td>0.0</td>\n",
       "      <td>0.0</td>\n",
       "      <td>0.0</td>\n",
       "      <td>0.0</td>\n",
       "      <td>0.0</td>\n",
       "      <td>0.0</td>\n",
       "      <td>0.0</td>\n",
       "      <td>0.0</td>\n",
       "    </tr>\n",
       "    <tr>\n",
       "      <th>4</th>\n",
       "      <td>0.0</td>\n",
       "      <td>0.0</td>\n",
       "      <td>0.000000</td>\n",
       "      <td>0.0</td>\n",
       "      <td>0.0</td>\n",
       "      <td>0.0</td>\n",
       "      <td>0.0</td>\n",
       "      <td>0.0</td>\n",
       "      <td>0.0</td>\n",
       "      <td>0.0</td>\n",
       "      <td>...</td>\n",
       "      <td>0.0</td>\n",
       "      <td>0.0</td>\n",
       "      <td>0.0</td>\n",
       "      <td>0.0</td>\n",
       "      <td>0.0</td>\n",
       "      <td>0.0</td>\n",
       "      <td>0.0</td>\n",
       "      <td>0.0</td>\n",
       "      <td>0.0</td>\n",
       "      <td>0.0</td>\n",
       "    </tr>\n",
       "  </tbody>\n",
       "</table>\n",
       "<p>5 rows × 4353 columns</p>\n",
       "</div>"
      ],
      "text/plain": [
       "    00   01        02   03   04   05  05172019   06   07  0706  ...  사랑하니까  \\\n",
       "0  0.0  0.0  0.000000  0.0  0.0  0.0       0.0  0.0  0.0   0.0  ...    0.0   \n",
       "1  0.0  0.0  0.452437  0.0  0.0  0.0       0.0  0.0  0.0   0.0  ...    0.0   \n",
       "2  0.0  0.0  0.000000  0.0  0.0  0.0       0.0  0.0  0.0   0.0  ...    0.0   \n",
       "3  0.0  0.0  0.000000  0.0  0.0  0.0       0.0  0.0  0.0   0.0  ...    0.0   \n",
       "4  0.0  0.0  0.000000  0.0  0.0  0.0       0.0  0.0  0.0   0.0  ...    0.0   \n",
       "\n",
       "    세상   썸탈  아름다운  와이키키  으라차차  처음이라서  첫사랑은  터지는  트리플썸  \n",
       "0  0.0  0.0   0.0   0.0   0.0    0.0   0.0  0.0   0.0  \n",
       "1  0.0  0.0   0.0   0.0   0.0    0.0   0.0  0.0   0.0  \n",
       "2  0.0  0.0   0.0   0.0   0.0    0.0   0.0  0.0   0.0  \n",
       "3  0.0  0.0   0.0   0.0   0.0    0.0   0.0  0.0   0.0  \n",
       "4  0.0  0.0   0.0   0.0   0.0    0.0   0.0  0.0   0.0  \n",
       "\n",
       "[5 rows x 4353 columns]"
      ]
     },
     "execution_count": 35,
     "metadata": {},
     "output_type": "execute_result"
    }
   ],
   "source": [
    "# Convert title into a DataFrame using TFIDFVectorizer\n",
    "title_df_tf = pd.DataFrame(title_words_tf.toarray(),\n",
    "                         columns = tf.get_feature_names())\n",
    "title_df_tf.head()"
   ]
  },
  {
   "cell_type": "code",
   "execution_count": 36,
   "metadata": {},
   "outputs": [],
   "source": [
    "top_10_tf = title_df_tf.sum().sort_values(ascending = False).head(10)"
   ]
  },
  {
   "cell_type": "code",
   "execution_count": 37,
   "metadata": {},
   "outputs": [
    {
     "data": {
      "image/png": "[encoded data removed]",
      "text/plain": [
       "<Figure size 864x576 with 1 Axes>"
      ]
     },
     "metadata": {
      "needs_background": "light"
     },
     "output_type": "display_data"
    }
   ],
   "source": [
    "plt.figure(figsize=(12,8))\n",
    "top_10_tf.plot(kind = 'barh')\n",
    "plt.title('Top 10 TFIDFVectorized Words in Title', fontsize = 15)\n",
    "plt.xlabel('Count', fontsize = 13);"
   ]
  },
  {
   "cell_type": "code",
   "execution_count": null,
   "metadata": {},
   "outputs": [],
   "source": []
  }
 ],
 "metadata": {
  "kernelspec": {
   "display_name": "Python 3",
   "language": "python",
   "name": "python3"
  },
  "language_info": {
   "codemirror_mode": {
    "name": "ipython",
    "version": 3
   },
   "file_extension": ".py",
   "mimetype": "text/x-python",
   "name": "python",
   "nbconvert_exporter": "python",
   "pygments_lexer": "ipython3",
   "version": "3.7.3"
  }
 },
 "nbformat": 4,
 "nbformat_minor": 2
}
