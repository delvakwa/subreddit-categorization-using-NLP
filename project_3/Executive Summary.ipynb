{
 "cells": [
  {
   "cell_type": "markdown",
   "metadata": {},
   "source": [
    "You started this week with a problem; A need for an accurate way to sort between the Anime and KDrama subreddits. After parsing through over 2000 subreddit posts, I have the solution: a statistical model that can accurately predict which of the two subreddit a post belongs to.\n",
    "\n",
    "After examining the data, I've come to a few conclusions. Anime and KDrama subreddit posts seem to be very similar. Both have a multitude of posts that are images/videos, posts about favorite characters or scenes, and posts discussing interesting parts of a show. Both subreddits are also based on popular TV and are very active, so sorting between the two can be difficult. These reasons are also why a method of sorting between these two subreddits could prove to be a huge asset. Effectively sorting between two subreddits with this much similarity can help with identification and data collection. This also creates a blueprint for future projects where sorting between two very similar subreddits is required. \n",
    "\n",
    "I've created a statistical model that accurately predicts between the two subreddits with over 95% accuracy, given either a subreddit post title or text. Considering that the average person only has a 70% chance to accurately sort between the two subreddits, this model will certainly pay dividends regardless of the project you use it for. Many of you are probably wondering if a different model could reach 100% accuracy. Well I can say with certainty that after testing my model against several other common modeling techniques, this model is superior. \n",
    "\n",
    "That's not the only reason why you should trust in the model I've generated. It's also endorsed by the General Assembly 2019 Data Science Immersive. We are a highly rigorous data science group that learns and adapts cutting edge modeling techniques on a regular basis. We do not cut corners; We utilize numerous modeling techniques and attempt to optomize those results several times before settling on a result. You can be confident that the models we generate are very accurate and adapt to new data well.\n",
    "\n",
    "Here are the facts of the current situation. You need a way to sort between Anime and KDrama subreddit posts. At most your team is currently able to sort between the two types of posts with 70% accuracy, but that's not cutting it. I've created a model that can accurately sort a post between the very similar subreddits, over 95% of the time. My model is also better than the vast majority of models out there. It is also scaleable and can easily be converted to handle whatever other sorting problems you may have between similar subreddits. I have created an accurate statistical model to solve your problem, and can create more models in the future that meet that same criteria. So now I have just one question: when can I start?"
   ]
  }
 ],
 "metadata": {
  "kernelspec": {
   "display_name": "Python 3",
   "language": "python",
   "name": "python3"
  },
  "language_info": {
   "codemirror_mode": {
    "name": "ipython",
    "version": 3
   },
   "file_extension": ".py",
   "mimetype": "text/x-python",
   "name": "python",
   "nbconvert_exporter": "python",
   "pygments_lexer": "ipython3",
   "version": "3.7.3"
  }
 },
 "nbformat": 4,
 "nbformat_minor": 2
}
